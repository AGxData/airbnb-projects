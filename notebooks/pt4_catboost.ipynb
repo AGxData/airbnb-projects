{
 "cells": [
  {
   "cell_type": "markdown",
   "id": "e863a8ee",
   "metadata": {},
   "source": [
    "# CatBoost Model"
   ]
  },
  {
   "cell_type": "markdown",
   "id": "3b54b32f",
   "metadata": {},
   "source": [
    "## Importing Libraries & Data"
   ]
  },
  {
   "cell_type": "code",
   "execution_count": 1,
   "id": "19e4a245",
   "metadata": {},
   "outputs": [
    {
     "name": "stderr",
     "output_type": "stream",
     "text": [
      "c:\\Users\\hussa\\OneDrive\\Desktop\\Projects\\adrians_project\\.venv\\Lib\\site-packages\\tqdm\\auto.py:21: TqdmWarning: IProgress not found. Please update jupyter and ipywidgets. See https://ipywidgets.readthedocs.io/en/stable/user_install.html\n",
      "  from .autonotebook import tqdm as notebook_tqdm\n"
     ]
    }
   ],
   "source": [
    "import numpy as np \n",
    "import pandas as pd \n",
    "import geopandas as gpd\n",
    "\n",
    "import optuna\n",
    "from sklearn.model_selection import train_test_split\n",
    "from sklearn.metrics import root_mean_squared_error, mean_absolute_error\n",
    "from catboost import CatBoostRegressor, Pool\n",
    "\n",
    "import warnings\n",
    "warnings.filterwarnings(\"ignore\", category = RuntimeWarning)"
   ]
  },
  {
   "cell_type": "code",
   "execution_count": 2,
   "id": "bc204c9b",
   "metadata": {},
   "outputs": [],
   "source": [
    "listings = pd.read_csv(r\"listings_cleaner.csv\")"
   ]
  },
  {
   "cell_type": "markdown",
   "id": "e51a3e81",
   "metadata": {},
   "source": [
    "## Dropping & Renaming Columns"
   ]
  },
  {
   "cell_type": "code",
   "execution_count": 3,
   "id": "998c7acc",
   "metadata": {},
   "outputs": [
    {
     "data": {
      "text/plain": [
       "Index(['Unnamed: 0.1', 'Unnamed: 0', 'accommodates', 'availability_30',\n",
       "       'availability_365', 'bathrooms', 'bedrooms', 'beds',\n",
       "       'calculated_host_listings_count',\n",
       "       'calculated_host_listings_count_entire_homes',\n",
       "       'calculated_host_listings_count_private_rooms',\n",
       "       'calculated_host_listings_count_shared_rooms', 'description',\n",
       "       'has_availability', 'host_acceptance_rate', 'host_has_profile_pic',\n",
       "       'host_id', 'host_identity_verified', 'host_is_superhost',\n",
       "       'host_listings_count', 'host_neighbourhood', 'host_response_rate',\n",
       "       'host_response_time', 'host_total_listings_count', 'id',\n",
       "       'instant_bookable', 'last_scraped', 'latitude', 'longitude',\n",
       "       'maximum_nights', 'minimum_nights', 'name',\n",
       "       'neighbourhood_group_cleansed', 'number_of_reviews', 'price',\n",
       "       'review_scores_accuracy', 'review_scores_checkin',\n",
       "       'review_scores_cleanliness', 'review_scores_communication',\n",
       "       'review_scores_location', 'review_scores_rating', 'review_scores_value',\n",
       "       'reviews_per_month', 'shared_bath', 'host_tenure', 'host_since_year',\n",
       "       'host_since_month', 'last_scrape_period', 'scrape_2024-10',\n",
       "       'scrape_2024-11', 'scrape_2024-12', 'scrape_2025-01', 'scrape_2025-02',\n",
       "       'scrape_2025-03', 'scrape_2025-04', 'scrape_2025-05', 'scrape_2025-06',\n",
       "       'scrape_2025-07', 'scrape_2025-08', 'prop_apartment', 'prop_hotel',\n",
       "       'prop_other', 'prop_vacation_home', 'prop_entire home/apt',\n",
       "       'prop_hotel room', 'prop_private room', 'prop_shared room'],\n",
       "      dtype='object')"
      ]
     },
     "execution_count": 3,
     "metadata": {},
     "output_type": "execute_result"
    }
   ],
   "source": [
    "listings.columns"
   ]
  },
  {
   "cell_type": "code",
   "execution_count": 4,
   "id": "508c90b9",
   "metadata": {},
   "outputs": [],
   "source": [
    "# Listings preprocessing\n",
    "listings_pp = listings.drop(columns = \n",
    "                [\"Unnamed: 0.1\", \"Unnamed: 0\", \"host_id\", \"id\", # Removing index columns and IDs\n",
    "                \"name\", \"last_scrape_period\", \"description\", \"last_scraped\"]) # Removing free text columns\n",
    "\n",
    "# Renaming long column names to make them easier to work with\n",
    "listings_pp = listings_pp.rename(columns = {\n",
    "    \"accommodates\": \"accomm\", \"instant_bookable\": \"instant_book\",\n",
    "    \"neighbourhood_group_cleansed\": \"boro\", \"host_neighbourhood\": \"nbhd\",\n",
    "    \"host_has_profile_pic\": \"has_pfp\", \"host_tenure\": \"tenure\", \"host_is_superhost\": \"is_superhost\",\n",
    "    \"host_identity_verified\": \"id_ver\", \"host_listings_count\": \"lst_cnt\", \"host_total_listings_count\": \"total_lst_cnt\",\n",
    "    \"host_response_rate\": \"rsp_rate\", \"host_response_time\": \"rsp_time\", \"host_acceptance_rate\": \"accept_rate\",\n",
    "    \"availability_30\": \"avail_30\", \"availability_365\": \"avail_365\", \"has_availability\": \"has_avail\",\n",
    "    \"maximum_nights\": \"max_nights\", \"minimum_nights\": \"min_nights\",\n",
    "    \"number_of_reviews\": \"no_rev\", \"review_scores_accuracy\": \"rev_acc\", \"review_scores_checkin\": \"rev_checkin\",\n",
    "    \"review_scores_cleanliness\": \"rev_clean\", \"review_scores_communication\": \"rev_coms\", \"review_scores_location\": \"rev_loc\",\n",
    "    \"review_scores_value\": \"rev_val\", \"review_scores_rating\": \"rev_rating\",\n",
    "    \"scrape_2024-10\": \"oct\", \"scrape_2024-11\": \"nov\", \"scrape_2024-12\": \"dec\", \"scrape_2025-01\": \"jan\",\n",
    "    \"scrape_2025-02\": \"feb\", \"scrape_2025-03\": \"mar\", \"scrape_2025-04\": \"apr\", \"scrape_2025-05\": \"may\", \n",
    "    \"scrape_2025-06\": \"june\", \"scrape_2025-07\": \"jul\", \"scrape_2025-08\": \"aug\", \n",
    "    \"prop_apartment\": \"prop_apt\", \"prop_entire home/apt\": \"prop_entire_home_apt\",\"prop_hotel room\": \"prop_hotel_room\",\n",
    "    \"prop_private room\": \"prop_private_room\", \"prop_shared room\": \"prop_shared_room\",\n",
    "    \"latitude\": \"lat\", \"longitude\": \"lon\"\n",
    "})"
   ]
  },
  {
   "cell_type": "code",
   "execution_count": 5,
   "id": "03dc0e52",
   "metadata": {},
   "outputs": [],
   "source": [
    "# Setting cap of prices at 1500 - accounts for about 95% of Airbnb listings, reducing the heavy right skew and removing outliers\n",
    "listings_pp = listings_pp[listings_pp[\"price\"] <= 1500]"
   ]
  },
  {
   "cell_type": "code",
   "execution_count": 6,
   "id": "b9b5dbd3",
   "metadata": {},
   "outputs": [
    {
     "data": {
      "text/plain": [
       "accomm                                              0\n",
       "avail_30                                            0\n",
       "avail_365                                           0\n",
       "bathrooms                                          72\n",
       "bedrooms                                          673\n",
       "beds                                             1037\n",
       "calculated_host_listings_count                      0\n",
       "calculated_host_listings_count_entire_homes         0\n",
       "calculated_host_listings_count_private_rooms        0\n",
       "calculated_host_listings_count_shared_rooms         0\n",
       "has_avail                                        2514\n",
       "accept_rate                                         0\n",
       "has_pfp                                            46\n",
       "id_ver                                             46\n",
       "is_superhost                                     4060\n",
       "lst_cnt                                            46\n",
       "nbhd                                            49209\n",
       "rsp_rate                                            0\n",
       "rsp_time                                        39397\n",
       "total_lst_cnt                                      46\n",
       "instant_book                                        0\n",
       "lat                                                 0\n",
       "lon                                                 0\n",
       "max_nights                                          0\n",
       "min_nights                                          0\n",
       "boro                                                0\n",
       "no_rev                                              0\n",
       "price                                               0\n",
       "rev_acc                                         72621\n",
       "rev_checkin                                     72621\n",
       "rev_clean                                       72621\n",
       "rev_coms                                        72621\n",
       "rev_loc                                         72630\n",
       "rev_rating                                      72602\n",
       "rev_val                                         72621\n",
       "reviews_per_month                               72602\n",
       "shared_bath                                         0\n",
       "tenure                                             46\n",
       "host_since_year                                    46\n",
       "host_since_month                                   46\n",
       "oct                                                 0\n",
       "nov                                                 0\n",
       "dec                                                 0\n",
       "jan                                                 0\n",
       "feb                                                 0\n",
       "mar                                                 0\n",
       "apr                                                 0\n",
       "may                                                 0\n",
       "june                                                0\n",
       "jul                                                 0\n",
       "aug                                                 0\n",
       "prop_apt                                            0\n",
       "prop_hotel                                          0\n",
       "prop_other                                          0\n",
       "prop_vacation_home                                  0\n",
       "prop_entire_home_apt                                0\n",
       "prop_hotel_room                                     0\n",
       "prop_private_room                                   0\n",
       "prop_shared_room                                    0\n",
       "dtype: int64"
      ]
     },
     "execution_count": 6,
     "metadata": {},
     "output_type": "execute_result"
    }
   ],
   "source": [
    "# Checking missing values\n",
    "listings_pp.isna().sum()"
   ]
  },
  {
   "cell_type": "markdown",
   "id": "cd1bc564",
   "metadata": {},
   "source": [
    "# Imputing Data"
   ]
  },
  {
   "cell_type": "markdown",
   "id": "d1b28c8c",
   "metadata": {},
   "source": [
    "CatBoost deals with missing values natively and does not need any scaling. I plan to leave most missing values as is - but neighborhoods can be dealt with as there are no missing lat/lon values."
   ]
  },
  {
   "cell_type": "code",
   "execution_count": 7,
   "id": "4d955862",
   "metadata": {},
   "outputs": [],
   "source": [
    "# Checking neighborhood names - Tons of Non-NYC neighborhoods (Sao Paulo, Miami Beach??), Gonna use new datasets to map out neighborhoods\n",
    "listings_pp[\"nbhd\"].unique();"
   ]
  },
  {
   "cell_type": "code",
   "execution_count": 8,
   "id": "514429d9",
   "metadata": {},
   "outputs": [
    {
     "data": {
      "text/plain": [
       "Index(['neighborhood', 'boroughCode', 'borough', 'X.id', 'geometry'], dtype='object')"
      ]
     },
     "execution_count": 8,
     "metadata": {},
     "output_type": "execute_result"
    }
   ],
   "source": [
    "# Loading GeoJSON to map neighborhoods onto with lat/lon\n",
    "nbhd_gdf = gpd.read_file(r\"custom_neighborhoods_nyc.geojson\")\n",
    "nbhd_gdf.columns"
   ]
  },
  {
   "cell_type": "code",
   "execution_count": 9,
   "id": "a0d708e8",
   "metadata": {},
   "outputs": [],
   "source": [
    "# Resetting index before creating gpd df\n",
    "listings_pp = listings_pp.reset_index(drop = False) \n",
    "\n",
    "# Dropping old columns\n",
    "listings_pp = listings_pp.drop(columns=[\"nbhd\", \"boro\"])\n",
    "\n",
    "# Converting listings to gpd df\n",
    "listings_gdf = gpd.GeoDataFrame(listings_pp, geometry = gpd.points_from_xy(listings_pp.lon, listings_pp.lat), crs = nbhd_gdf.crs)\n",
    "\n",
    "# Spatial Join\n",
    "listings_gdf = gpd.sjoin(listings_gdf, nbhd_gdf[[\"neighborhood\", \"borough\", \"geometry\"]], how = \"left\", predicate = \"within\")\n",
    "\n",
    "# Renaming columns to match original df column names\n",
    "listings_gdf = listings_gdf.rename(columns={\"neighborhood\": \"nbhd\", \"borough\": \"boro\"})\n",
    "\n",
    "# Mapping new values by joining\n",
    "listings_pp = listings_pp.merge(listings_gdf[[\"index\", \"nbhd\", \"boro\"]], on = \"index\", how = \"left\")\n",
    "\n",
    "# Dropping index\n",
    "listings_pp = listings_pp.drop(columns = [\"index\"])\n",
    "\n",
    "# Filling in points that did not map out\n",
    "listings_pp[\"nbhd\"] = listings_pp[\"nbhd\"].fillna(\"Unknown\")\n",
    "listings_pp[\"boro\"] = listings_pp[\"boro\"].fillna(\"Unknown\")"
   ]
  },
  {
   "cell_type": "code",
   "execution_count": 10,
   "id": "9b9b4e7d",
   "metadata": {},
   "outputs": [],
   "source": [
    "# Checking missing values again - No missing boroughs or neighborhoods\n",
    "listings_pp.isna().sum();"
   ]
  },
  {
   "cell_type": "markdown",
   "id": "502251e4",
   "metadata": {},
   "source": [
    "# Train Test Split"
   ]
  },
  {
   "cell_type": "code",
   "execution_count": 11,
   "id": "b6da5e84",
   "metadata": {},
   "outputs": [],
   "source": [
    "# Separating target variable from features\n",
    "X = listings_pp.drop(columns = [\"price\"])\n",
    "y = listings_pp[\"price\"]"
   ]
  },
  {
   "cell_type": "code",
   "execution_count": 12,
   "id": "41c35710",
   "metadata": {},
   "outputs": [],
   "source": [
    "# Train-test-split for dataset\n",
    "X_train, X_test, y_train, y_test = train_test_split(X, y, test_size = 0.2, random_state = 2025)"
   ]
  },
  {
   "cell_type": "code",
   "execution_count": 13,
   "id": "c4dbe8b1",
   "metadata": {},
   "outputs": [],
   "source": [
    "# # Log transforming target variable for improved stability\n",
    "# y_train_log = np.log(y_train)\n",
    "# y_test_log = np.log(y_test)"
   ]
  },
  {
   "cell_type": "code",
   "execution_count": 14,
   "id": "9ea0ce96",
   "metadata": {},
   "outputs": [],
   "source": [
    "# Assigning non one-hot encoded categories for CatBoost\n",
    "cat_features = [\"boro\", \"nbhd\", \"rsp_time\"]"
   ]
  },
  {
   "cell_type": "code",
   "execution_count": 15,
   "id": "d7cfdf14",
   "metadata": {},
   "outputs": [],
   "source": [
    "# Replacing NaN values with string values for CatBoost\n",
    "X_train[cat_features] = X_train[cat_features].fillna(\"Missing\")\n",
    "X_test[cat_features]  = X_test[cat_features].fillna(\"Missing\")"
   ]
  },
  {
   "cell_type": "code",
   "execution_count": 16,
   "id": "c04232f9",
   "metadata": {},
   "outputs": [],
   "source": [
    "# # Assigning CatBoost Pool objects for training and testing sets (after log scale)\n",
    "# train_pool = Pool(data = X_train, label = y_train_log, cat_features = cat_features)\n",
    "# test_pool = Pool(data = X_test, label = y_test_log, cat_features = cat_features)"
   ]
  },
  {
   "cell_type": "code",
   "execution_count": 17,
   "id": "ea485dfa",
   "metadata": {},
   "outputs": [],
   "source": [
    "# Assigning CatBoost Pool objects for training and testing sets\n",
    "train_pool = Pool(data = X_train, label = y_train, cat_features = cat_features)\n",
    "test_pool = Pool(data = X_test, label = y_test, cat_features = cat_features)"
   ]
  },
  {
   "cell_type": "markdown",
   "id": "7478a8c4",
   "metadata": {},
   "source": [
    "# CatBoost"
   ]
  },
  {
   "cell_type": "markdown",
   "id": "b4a03c9e",
   "metadata": {},
   "source": [
    "## Optuna Trials"
   ]
  },
  {
   "cell_type": "code",
   "execution_count": 18,
   "id": "35998052",
   "metadata": {},
   "outputs": [],
   "source": [
    "# # Defining Optuna objective function\n",
    "# def objective(trial):\n",
    "#     params = {\n",
    "#         \"iterations\": trial.suggest_int(\"iterations\", 400, 1600),\n",
    "#         \"depth\": trial.suggest_int(\"depth\", 4, 14),\n",
    "#         \"learning_rate\": trial.suggest_float(\"learning_rate\", 0.01, 0.3, log = True),\n",
    "#         \"l2_leaf_reg\": trial.suggest_float(\"l2_leaf_reg\", 1e-3, 2, log = True),\n",
    "#         \"border_count\": trial.suggest_int(\"border_count\", 64, 128),\n",
    "#         \"loss_function\": \"RMSE\",\n",
    "#         \"verbose\": 0,\n",
    "#         \"thread_count\": -1,\n",
    "#         \"task_type\": \"GPU\"\n",
    "#     }\n",
    "#     # Instantiating CatBoost Model \n",
    "#     model = CatBoostRegressor(**params)\n",
    "#     # Fitting CatBoost\n",
    "#     model.fit(train_pool, eval_set = test_pool, early_stopping_rounds = 50, verbose = 0)\n",
    "#     # Model predictions\n",
    "#     preds_log = model.predict(test_pool)\n",
    "#     # RMSE for each Trial\n",
    "#     rmse_log = root_mean_squared_error(y_test_log, preds_log)\n",
    "#     return rmse_log"
   ]
  },
  {
   "cell_type": "code",
   "execution_count": 19,
   "id": "4831c686",
   "metadata": {},
   "outputs": [],
   "source": [
    "# Defining Optuna objective function for MAE\n",
    "def objective(trial):\n",
    "    params = {\n",
    "        \"iterations\": trial.suggest_int(\"iterations\", 400, 1600),\n",
    "        \"depth\": trial.suggest_int(\"depth\", 4, 14),\n",
    "        \"learning_rate\": trial.suggest_float(\"learning_rate\", 0.01, 0.3, log=True),\n",
    "        \"l2_leaf_reg\": trial.suggest_float(\"l2_leaf_reg\", 1e-3, 2, log=True),\n",
    "        \"border_count\": trial.suggest_int(\"border_count\", 64, 128),\n",
    "        \"loss_function\": \"MAE\",  # Use MAE as CatBoost loss\n",
    "        \"verbose\": 0,\n",
    "        \"thread_count\": -1,\n",
    "        \"task_type\": \"GPU\"\n",
    "    }\n",
    "\n",
    "    # Instantiating CatBoost Model \n",
    "    model = CatBoostRegressor(**params)\n",
    "\n",
    "    # Fitting CatBoost\n",
    "    model.fit(train_pool, eval_set=test_pool, early_stopping_rounds=50, verbose=0)\n",
    "\n",
    "    # Model predictions (original scale)\n",
    "    preds = model.predict(test_pool)\n",
    "\n",
    "    # MAE for each trial\n",
    "    mae = mean_absolute_error(y_test, preds)\n",
    "\n",
    "    return mae\n"
   ]
  },
  {
   "cell_type": "code",
   "execution_count": 20,
   "id": "f1e62dfd",
   "metadata": {},
   "outputs": [
    {
     "name": "stderr",
     "output_type": "stream",
     "text": [
      "[I 2025-10-04 14:58:54,281] A new study created in memory with name: no-name-4f3ce54a-d5de-4286-bcda-d83062b7859c\n",
      "Default metric period is 5 because MAE is/are not implemented for GPU\n",
      "[I 2025-10-04 14:59:09,560] Trial 0 finished with value: 103.77047960146687 and parameters: {'iterations': 741, 'depth': 8, 'learning_rate': 0.0524652001950576, 'l2_leaf_reg': 0.18517304827366027, 'border_count': 85}. Best is trial 0 with value: 103.77047960146687.\n",
      "Default metric period is 5 because MAE is/are not implemented for GPU\n",
      "[I 2025-10-04 15:15:12,163] Trial 1 finished with value: 103.97367249858857 and parameters: {'iterations': 1391, 'depth': 12, 'learning_rate': 0.024384893571368187, 'l2_leaf_reg': 0.4864330593514062, 'border_count': 80}. Best is trial 0 with value: 103.77047960146687.\n",
      "Default metric period is 5 because MAE is/are not implemented for GPU\n",
      "[I 2025-10-04 15:15:27,299] Trial 2 finished with value: 104.40839576488418 and parameters: {'iterations': 987, 'depth': 5, 'learning_rate': 0.04252481605224701, 'l2_leaf_reg': 0.03071932396791263, 'border_count': 128}. Best is trial 0 with value: 103.77047960146687.\n",
      "Default metric period is 5 because MAE is/are not implemented for GPU\n",
      "[I 2025-10-04 15:20:52,270] Trial 3 finished with value: 93.66572073871733 and parameters: {'iterations': 1087, 'depth': 11, 'learning_rate': 0.07633688701443181, 'l2_leaf_reg': 0.038496543960553936, 'border_count': 90}. Best is trial 3 with value: 93.66572073871733.\n",
      "Default metric period is 5 because MAE is/are not implemented for GPU\n",
      "[I 2025-10-04 15:20:59,834] Trial 4 finished with value: 98.27002420295108 and parameters: {'iterations': 409, 'depth': 7, 'learning_rate': 0.17066678077026448, 'l2_leaf_reg': 0.0034465582831711, 'border_count': 101}. Best is trial 3 with value: 93.66572073871733.\n",
      "Default metric period is 5 because MAE is/are not implemented for GPU\n",
      "[I 2025-10-04 15:25:17,137] Trial 5 finished with value: 63.03930572561417 and parameters: {'iterations': 1484, 'depth': 12, 'learning_rate': 0.29657329446030123, 'l2_leaf_reg': 0.001063429534072893, 'border_count': 128}. Best is trial 5 with value: 63.03930572561417.\n",
      "Default metric period is 5 because MAE is/are not implemented for GPU\n",
      "[I 2025-10-04 15:27:25,501] Trial 6 finished with value: 84.36697799528294 and parameters: {'iterations': 831, 'depth': 11, 'learning_rate': 0.16481331728107582, 'l2_leaf_reg': 1.511525453322036, 'border_count': 122}. Best is trial 5 with value: 63.03930572561417.\n",
      "Default metric period is 5 because MAE is/are not implemented for GPU\n",
      "[I 2025-10-04 15:33:31,766] Trial 7 finished with value: 89.4521450191871 and parameters: {'iterations': 801, 'depth': 12, 'learning_rate': 0.12762784768286597, 'l2_leaf_reg': 0.05755076558761093, 'border_count': 120}. Best is trial 5 with value: 63.03930572561417.\n",
      "Default metric period is 5 because MAE is/are not implemented for GPU\n",
      "[I 2025-10-04 15:34:51,312] Trial 8 finished with value: 104.56449199666497 and parameters: {'iterations': 1174, 'depth': 11, 'learning_rate': 0.027484250905079794, 'l2_leaf_reg': 0.5109692992495765, 'border_count': 127}. Best is trial 5 with value: 63.03930572561417.\n",
      "Default metric period is 5 because MAE is/are not implemented for GPU\n",
      "[I 2025-10-04 15:36:56,156] Trial 9 finished with value: 77.82625300221369 and parameters: {'iterations': 1246, 'depth': 6, 'learning_rate': 0.20331318426071415, 'l2_leaf_reg': 0.14622330666607042, 'border_count': 73}. Best is trial 5 with value: 63.03930572561417.\n",
      "Default metric period is 5 because MAE is/are not implemented for GPU\n",
      "[I 2025-10-04 16:00:33,046] Trial 10 finished with value: 106.59477990558737 and parameters: {'iterations': 1527, 'depth': 14, 'learning_rate': 0.014255824307675804, 'l2_leaf_reg': 0.0010209866783075963, 'border_count': 106}. Best is trial 5 with value: 63.03930572561417.\n",
      "Default metric period is 5 because MAE is/are not implemented for GPU\n",
      "[I 2025-10-04 16:01:34,297] Trial 11 finished with value: 75.21352556815036 and parameters: {'iterations': 1349, 'depth': 4, 'learning_rate': 0.2997738658245468, 'l2_leaf_reg': 0.0066754108543783984, 'border_count': 64}. Best is trial 5 with value: 63.03930572561417.\n",
      "Default metric period is 5 because MAE is/are not implemented for GPU\n",
      "[I 2025-10-04 16:01:47,633] Trial 12 finished with value: 74.63860554957283 and parameters: {'iterations': 1536, 'depth': 4, 'learning_rate': 0.2751081720166279, 'l2_leaf_reg': 0.004686378796822195, 'border_count': 64}. Best is trial 5 with value: 63.03930572561417.\n",
      "Default metric period is 5 because MAE is/are not implemented for GPU\n",
      "[I 2025-10-04 16:02:32,981] Trial 13 finished with value: 67.5224662046795 and parameters: {'iterations': 1501, 'depth': 9, 'learning_rate': 0.2795708445887935, 'l2_leaf_reg': 0.0011354512256193593, 'border_count': 108}. Best is trial 5 with value: 63.03930572561417.\n",
      "Default metric period is 5 because MAE is/are not implemented for GPU\n",
      "[I 2025-10-04 16:03:07,758] Trial 14 finished with value: 83.03364156203786 and parameters: {'iterations': 1559, 'depth': 9, 'learning_rate': 0.09991952568693305, 'l2_leaf_reg': 0.0010870417232581885, 'border_count': 112}. Best is trial 5 with value: 63.03930572561417.\n",
      "Default metric period is 5 because MAE is/are not implemented for GPU\n",
      "[I 2025-10-04 16:07:37,272] Trial 15 finished with value: 81.63343803240254 and parameters: {'iterations': 1368, 'depth': 14, 'learning_rate': 0.1014929433379529, 'l2_leaf_reg': 0.013134642568795223, 'border_count': 114}. Best is trial 5 with value: 63.03930572561417.\n",
      "Default metric period is 5 because MAE is/are not implemented for GPU\n",
      "[I 2025-10-04 16:08:22,180] Trial 16 finished with value: 68.95480368563457 and parameters: {'iterations': 1590, 'depth': 9, 'learning_rate': 0.23693431211419202, 'l2_leaf_reg': 0.0022181374624174023, 'border_count': 96}. Best is trial 5 with value: 63.03930572561417.\n",
      "Default metric period is 5 because MAE is/are not implemented for GPU\n",
      "[I 2025-10-04 16:09:24,961] Trial 17 finished with value: 80.40539450308715 and parameters: {'iterations': 1273, 'depth': 9, 'learning_rate': 0.1398914077840386, 'l2_leaf_reg': 0.012112659272980388, 'border_count': 109}. Best is trial 5 with value: 63.03930572561417.\n",
      "Default metric period is 5 because MAE is/are not implemented for GPU\n",
      "[I 2025-10-04 16:12:24,643] Trial 18 finished with value: 87.98980611311492 and parameters: {'iterations': 1448, 'depth': 13, 'learning_rate': 0.07373008228320309, 'l2_leaf_reg': 0.0025027155940911153, 'border_count': 117}. Best is trial 5 with value: 63.03930572561417.\n",
      "Default metric period is 5 because MAE is/are not implemented for GPU\n",
      "[I 2025-10-04 16:12:58,376] Trial 19 finished with value: 71.1869081695146 and parameters: {'iterations': 1025, 'depth': 10, 'learning_rate': 0.2911814405922786, 'l2_leaf_reg': 0.010438993700733758, 'border_count': 102}. Best is trial 5 with value: 63.03930572561417.\n"
     ]
    }
   ],
   "source": [
    "# Creating Optuna study for hyperparameter tuning\n",
    "study = optuna.create_study(direction = \"minimize\")\n",
    "study.optimize(objective, n_trials = 20)"
   ]
  },
  {
   "cell_type": "code",
   "execution_count": 21,
   "id": "d6986462",
   "metadata": {},
   "outputs": [
    {
     "data": {
      "text/plain": [
       "<catboost.core.CatBoostRegressor at 0x21d55037f10>"
      ]
     },
     "execution_count": 21,
     "metadata": {},
     "output_type": "execute_result"
    }
   ],
   "source": [
    "# Getting best parameters of Optuna study and running that model\n",
    "best_params = study.best_trial.params\n",
    "best_model = CatBoostRegressor(**best_params, task_type = \"GPU\")\n",
    "best_model.fit(train_pool, eval_set = test_pool, verbose = 0)"
   ]
  },
  {
   "cell_type": "code",
   "execution_count": 22,
   "id": "4a71c7f4",
   "metadata": {},
   "outputs": [
    {
     "name": "stdout",
     "output_type": "stream",
     "text": [
      "                                      Feature Id  Importances\n",
      "0                                            lon     8.516266\n",
      "1                                           nbhd     7.011327\n",
      "2                                         accomm     6.286582\n",
      "3                                     min_nights     6.062270\n",
      "4                                      bathrooms     5.842530\n",
      "5                                            lat     5.359759\n",
      "6                                        lst_cnt     4.542871\n",
      "7                                         tenure     4.034548\n",
      "8                                  total_lst_cnt     3.946952\n",
      "9                                    accept_rate     3.823221\n",
      "10                                      avail_30     3.066339\n",
      "11                                      bedrooms     2.926937\n",
      "12                                     avail_365     2.839110\n",
      "13                              host_since_month     2.663023\n",
      "14                                    max_nights     2.435877\n",
      "15                             reviews_per_month     2.435128\n",
      "16   calculated_host_listings_count_entire_homes     2.303298\n",
      "17                                          boro     2.261700\n",
      "18                                          beds     2.248160\n",
      "19                                        no_rev     1.775357\n",
      "20                                    rev_rating     1.657578\n",
      "21                calculated_host_listings_count     1.626246\n",
      "22                                      rsp_time     1.498621\n",
      "23  calculated_host_listings_count_private_rooms     1.415900\n",
      "24                                     rev_clean     1.344770\n",
      "25                                       rev_val     1.021664\n",
      "26                                      rsp_rate     0.961940\n",
      "27                                   shared_bath     0.823365\n",
      "28                                    prop_hotel     0.789042\n",
      "29                                           dec     0.719316\n",
      "30                                       rev_loc     0.609072\n",
      "31                                           feb     0.575005\n",
      "32                                      prop_apt     0.538255\n",
      "33                                           jan     0.503255\n",
      "34                             prop_private_room     0.503037\n",
      "35                               host_since_year     0.488615\n",
      "36                                       rev_acc     0.460981\n",
      "37                                           oct     0.438271\n",
      "38                                  instant_book     0.433858\n",
      "39                          prop_entire_home_apt     0.427144\n",
      "40                                   rev_checkin     0.389381\n",
      "41                                      rev_coms     0.354781\n",
      "42                                           mar     0.311192\n",
      "43                                        id_ver     0.283121\n",
      "44                                  is_superhost     0.225947\n",
      "45                                       has_pfp     0.201037\n",
      "46                                           jul     0.182596\n",
      "47                                           may     0.172491\n",
      "48                                          june     0.165671\n",
      "49                                           apr     0.151376\n",
      "50                                           aug     0.130109\n",
      "51                                           nov     0.085299\n",
      "52                               prop_hotel_room     0.036319\n",
      "53                                     has_avail     0.029361\n",
      "54                              prop_shared_room     0.027177\n",
      "55   calculated_host_listings_count_shared_rooms     0.021161\n",
      "56                                    prop_other     0.011571\n",
      "57                            prop_vacation_home     0.004214\n"
     ]
    }
   ],
   "source": [
    "# Getting feature importance\n",
    "feature_importance = best_model.get_feature_importance(prettified = True)\n",
    "print(feature_importance)"
   ]
  }
 ],
 "metadata": {
  "kernelspec": {
   "display_name": ".venv",
   "language": "python",
   "name": "python3"
  },
  "language_info": {
   "codemirror_mode": {
    "name": "ipython",
    "version": 3
   },
   "file_extension": ".py",
   "mimetype": "text/x-python",
   "name": "python",
   "nbconvert_exporter": "python",
   "pygments_lexer": "ipython3",
   "version": "3.11.9"
  }
 },
 "nbformat": 4,
 "nbformat_minor": 5
}
