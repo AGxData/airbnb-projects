{
 "cells": [
  {
   "cell_type": "markdown",
   "id": "e863a8ee",
   "metadata": {},
   "source": [
    "# CatBoost Model"
   ]
  },
  {
   "cell_type": "markdown",
   "id": "3b54b32f",
   "metadata": {},
   "source": [
    "## Importing Libraries & Data"
   ]
  },
  {
   "cell_type": "code",
   "execution_count": null,
   "id": "19e4a245",
   "metadata": {},
   "outputs": [],
   "source": [
    "import numpy as np \n",
    "import pandas as pd \n",
    "import geopandas as gpd\n",
    "\n",
    "import optuna\n",
    "from sklearn.model_selection import train_test_split\n",
    "from sklearn.metrics import root_mean_squared_error\n",
    "from catboost import CatBoostRegressor, Pool\n",
    "\n",
    "import warnings\n",
    "warnings.filterwarnings(\"ignore\", category = RuntimeWarning)"
   ]
  },
  {
   "cell_type": "code",
   "execution_count": 4,
   "id": "bc204c9b",
   "metadata": {},
   "outputs": [],
   "source": [
    "listings = pd.read_csv(r\"listings_cleaner.csv\")"
   ]
  },
  {
   "cell_type": "markdown",
   "id": "e51a3e81",
   "metadata": {},
   "source": [
    "## Dropping & Renaming Columns"
   ]
  },
  {
   "cell_type": "code",
   "execution_count": 5,
   "id": "998c7acc",
   "metadata": {},
   "outputs": [
    {
     "data": {
      "text/plain": [
       "Index(['Unnamed: 0.1', 'Unnamed: 0', 'accommodates', 'availability_30',\n",
       "       'availability_365', 'bathrooms', 'bedrooms', 'beds',\n",
       "       'calculated_host_listings_count',\n",
       "       'calculated_host_listings_count_entire_homes',\n",
       "       'calculated_host_listings_count_private_rooms',\n",
       "       'calculated_host_listings_count_shared_rooms', 'description',\n",
       "       'has_availability', 'host_acceptance_rate', 'host_has_profile_pic',\n",
       "       'host_id', 'host_identity_verified', 'host_is_superhost',\n",
       "       'host_listings_count', 'host_neighbourhood', 'host_response_rate',\n",
       "       'host_response_time', 'host_total_listings_count', 'id',\n",
       "       'instant_bookable', 'last_scraped', 'latitude', 'longitude',\n",
       "       'maximum_nights', 'minimum_nights', 'name',\n",
       "       'neighbourhood_group_cleansed', 'number_of_reviews', 'price',\n",
       "       'review_scores_accuracy', 'review_scores_checkin',\n",
       "       'review_scores_cleanliness', 'review_scores_communication',\n",
       "       'review_scores_location', 'review_scores_rating', 'review_scores_value',\n",
       "       'reviews_per_month', 'shared_bath', 'host_tenure', 'host_since_year',\n",
       "       'host_since_month', 'last_scrape_period', 'scrape_2024-10',\n",
       "       'scrape_2024-11', 'scrape_2024-12', 'scrape_2025-01', 'scrape_2025-02',\n",
       "       'scrape_2025-03', 'scrape_2025-04', 'scrape_2025-05', 'scrape_2025-06',\n",
       "       'scrape_2025-07', 'scrape_2025-08', 'prop_apartment', 'prop_hotel',\n",
       "       'prop_other', 'prop_vacation_home', 'prop_entire home/apt',\n",
       "       'prop_hotel room', 'prop_private room', 'prop_shared room'],\n",
       "      dtype='object')"
      ]
     },
     "execution_count": 5,
     "metadata": {},
     "output_type": "execute_result"
    }
   ],
   "source": [
    "listings.columns"
   ]
  },
  {
   "cell_type": "code",
   "execution_count": 8,
   "id": "508c90b9",
   "metadata": {},
   "outputs": [],
   "source": [
    "# Listings preprocessing\n",
    "listings_pp = listings.drop(columns = \n",
    "                [\"Unnamed: 0.1\", \"Unnamed: 0\", \"host_id\", \"id\", # Removing index columns and IDs\n",
    "                \"name\", \"last_scrape_period\", \"description\", \"last_scraped\"]) # Removing free text columns\n",
    "\n",
    "# Renaming long column names to make them easier to work with\n",
    "listings_pp = listings_pp.rename(columns = {\n",
    "    \"accommodates\": \"accomm\", \"instant_bookable\": \"instant_book\",\n",
    "    \"neighbourhood_group_cleansed\": \"boro\", \"host_neighbourhood\": \"nbhd\",\n",
    "    \"host_has_profile_pic\": \"has_pfp\", \"host_tenure\": \"tenure\", \"host_is_superhost\": \"is_superhost\",\n",
    "    \"host_identity_verified\": \"id_ver\", \"host_listings_count\": \"lst_cnt\", \"host_total_listings_count\": \"total_lst_cnt\",\n",
    "    \"host_response_rate\": \"rsp_rate\", \"host_response_time\": \"rsp_time\", \"host_acceptance_rate\": \"accept_rate\",\n",
    "    \"availability_30\": \"avail_30\", \"availability_365\": \"avail_365\", \"has_availability\": \"has_avail\",\n",
    "    \"maximum_nights\": \"max_nights\", \"minimum_nights\": \"min_nights\",\n",
    "    \"number_of_reviews\": \"no_rev\", \"review_scores_accuracy\": \"rev_acc\", \"review_scores_checkin\": \"rev_checkin\",\n",
    "    \"review_scores_cleanliness\": \"rev_clean\", \"review_scores_communication\": \"rev_coms\", \"review_scores_location\": \"rev_loc\",\n",
    "    \"review_scores_value\": \"rev_val\", \"review_scores_rating\": \"rev_rating\",\n",
    "    \"scrape_2024-10\": \"oct\", \"scrape_2024-11\": \"nov\", \"scrape_2024-12\": \"dec\", \"scrape_2025-01\": \"jan\",\n",
    "    \"scrape_2025-02\": \"feb\", \"scrape_2025-03\": \"mar\", \"scrape_2025-04\": \"apr\", \"scrape_2025-05\": \"may\", \n",
    "    \"scrape_2025-06\": \"june\", \"scrape_2025-07\": \"jul\", \"scrape_2025-08\": \"aug\", \n",
    "    \"prop_apartment\": \"prop_apt\", \"prop_entire home/apt\": \"prop_entire_home_apt\",\"prop_hotel room\": \"prop_hotel_room\",\n",
    "    \"prop_private room\": \"prop_private_room\", \"prop_shared room\": \"prop_shared_room\",\n",
    "    \"latitude\": \"lat\", \"longitude\": \"lon\"\n",
    "})"
   ]
  },
  {
   "cell_type": "code",
   "execution_count": 9,
   "id": "03dc0e52",
   "metadata": {},
   "outputs": [],
   "source": [
    "# Setting cap of prices at 1500 - accounts for about 95% of Airbnb listings, reducing the heavy right skew and removing outliers\n",
    "listings_pp = listings_pp[listings_pp[\"price\"] <= 1500]"
   ]
  },
  {
   "cell_type": "code",
   "execution_count": 10,
   "id": "b9b5dbd3",
   "metadata": {},
   "outputs": [
    {
     "data": {
      "text/plain": [
       "accomm                                              0\n",
       "avail_30                                            0\n",
       "avail_365                                           0\n",
       "bathrooms                                          72\n",
       "bedrooms                                          673\n",
       "beds                                             1037\n",
       "calculated_host_listings_count                      0\n",
       "calculated_host_listings_count_entire_homes         0\n",
       "calculated_host_listings_count_private_rooms        0\n",
       "calculated_host_listings_count_shared_rooms         0\n",
       "has_avail                                        2514\n",
       "accept_rate                                         0\n",
       "has_pfp                                            46\n",
       "id_ver                                             46\n",
       "is_superhost                                     4060\n",
       "lst_cnt                                            46\n",
       "nbhd                                            49209\n",
       "rsp_rate                                            0\n",
       "rsp_time                                        39397\n",
       "total_lst_cnt                                      46\n",
       "instant_book                                        0\n",
       "lat                                                 0\n",
       "lon                                                 0\n",
       "max_nights                                          0\n",
       "min_nights                                          0\n",
       "boro                                                0\n",
       "no_rev                                              0\n",
       "price                                               0\n",
       "rev_acc                                         72621\n",
       "rev_checkin                                     72621\n",
       "rev_clean                                       72621\n",
       "rev_coms                                        72621\n",
       "rev_loc                                         72630\n",
       "rev_rating                                      72602\n",
       "rev_val                                         72621\n",
       "reviews_per_month                               72602\n",
       "shared_bath                                         0\n",
       "tenure                                             46\n",
       "host_since_year                                    46\n",
       "host_since_month                                   46\n",
       "oct                                                 0\n",
       "nov                                                 0\n",
       "dec                                                 0\n",
       "jan                                                 0\n",
       "feb                                                 0\n",
       "mar                                                 0\n",
       "apr                                                 0\n",
       "may                                                 0\n",
       "june                                                0\n",
       "jul                                                 0\n",
       "aug                                                 0\n",
       "prop_apt                                            0\n",
       "prop_hotel                                          0\n",
       "prop_other                                          0\n",
       "prop_vacation_home                                  0\n",
       "prop_entire_home_apt                                0\n",
       "prop_hotel_room                                     0\n",
       "prop_private_room                                   0\n",
       "prop_shared_room                                    0\n",
       "dtype: int64"
      ]
     },
     "execution_count": 10,
     "metadata": {},
     "output_type": "execute_result"
    }
   ],
   "source": [
    "# Checking missing values\n",
    "listings_pp.isna().sum()"
   ]
  },
  {
   "cell_type": "markdown",
   "id": "cd1bc564",
   "metadata": {},
   "source": [
    "# Imputing Data"
   ]
  },
  {
   "cell_type": "markdown",
   "id": "d1b28c8c",
   "metadata": {},
   "source": [
    "CatBoost deals with missing values natively and does not need any scaling. I plan to leave most missing values as is - but neighborhoods can be dealt with as there are no missing lat/lon values."
   ]
  },
  {
   "cell_type": "code",
   "execution_count": 11,
   "id": "4d955862",
   "metadata": {},
   "outputs": [],
   "source": [
    "# Checking neighborhood names - Tons of Non-NYC neighborhoods (Sao Paulo, Miami Beach??), Gonna use new datasets to map out neighborhoods\n",
    "listings_pp[\"nbhd\"].unique();"
   ]
  },
  {
   "cell_type": "code",
   "execution_count": 13,
   "id": "514429d9",
   "metadata": {},
   "outputs": [
    {
     "data": {
      "text/plain": [
       "Index(['neighborhood', 'boroughCode', 'borough', 'X.id', 'geometry'], dtype='object')"
      ]
     },
     "execution_count": 13,
     "metadata": {},
     "output_type": "execute_result"
    }
   ],
   "source": [
    "# Loading GeoJSON to map neighborhoods onto with lat/lon\n",
    "nbhd_gdf = gpd.read_file(r\"custom_neighborhoods_nyc.geojson\")\n",
    "nbhd_gdf.columns"
   ]
  },
  {
   "cell_type": "code",
   "execution_count": 14,
   "id": "a0d708e8",
   "metadata": {},
   "outputs": [],
   "source": [
    "# Resetting index before creating gpd df\n",
    "listings_pp = listings_pp.reset_index(drop = False) \n",
    "\n",
    "# Dropping old columns\n",
    "listings_pp = listings_pp.drop(columns=[\"nbhd\", \"boro\"])\n",
    "\n",
    "# Converting listings to gpd df\n",
    "listings_gdf = gpd.GeoDataFrame(listings_pp, geometry = gpd.points_from_xy(listings_pp.lon, listings_pp.lat), crs = nbhd_gdf.crs)\n",
    "\n",
    "# Spatial Join\n",
    "listings_gdf = gpd.sjoin(listings_gdf, nbhd_gdf[[\"neighborhood\", \"borough\", \"geometry\"]], how = \"left\", predicate = \"within\")\n",
    "\n",
    "# Renaming columns to match original df column names\n",
    "listings_gdf = listings_gdf.rename(columns={\"neighborhood\": \"nbhd\", \"borough\": \"boro\"})\n",
    "\n",
    "# Mapping new values by joining\n",
    "listings_pp = listings_pp.merge(listings_gdf[[\"index\", \"nbhd\", \"boro\"]], on = \"index\", how = \"left\")\n",
    "\n",
    "# Dropping index\n",
    "listings_pp = listings_pp.drop(columns = [\"index\"])\n",
    "\n",
    "# Filling in points that did not map out\n",
    "listings_pp[\"nbhd\"] = listings_pp[\"nbhd\"].fillna(\"Unknown\")\n",
    "listings_pp[\"boro\"] = listings_pp[\"boro\"].fillna(\"Unknown\")"
   ]
  },
  {
   "cell_type": "code",
   "execution_count": 15,
   "id": "9b9b4e7d",
   "metadata": {},
   "outputs": [],
   "source": [
    "# Checking missing values again - No missing boroughs or neighborhoods\n",
    "listings_pp.isna().sum();"
   ]
  },
  {
   "cell_type": "markdown",
   "id": "502251e4",
   "metadata": {},
   "source": [
    "# Train Test Split"
   ]
  },
  {
   "cell_type": "code",
   "execution_count": 16,
   "id": "b6da5e84",
   "metadata": {},
   "outputs": [],
   "source": [
    "# Separating target variable from features\n",
    "X = listings_pp.drop(columns = [\"price\"])\n",
    "y = listings_pp[\"price\"]"
   ]
  },
  {
   "cell_type": "code",
   "execution_count": 17,
   "id": "41c35710",
   "metadata": {},
   "outputs": [],
   "source": [
    "# Train-test-split for dataset\n",
    "X_train, X_test, y_train, y_test = train_test_split(X, y, test_size = 0.2, random_state = 2025)"
   ]
  },
  {
   "cell_type": "code",
   "execution_count": 18,
   "id": "c4dbe8b1",
   "metadata": {},
   "outputs": [],
   "source": [
    "# Log transforming target variable for improved stability\n",
    "y_train_log = np.log(y_train)\n",
    "y_test_log = np.log(y_test)"
   ]
  },
  {
   "cell_type": "code",
   "execution_count": 19,
   "id": "9ea0ce96",
   "metadata": {},
   "outputs": [],
   "source": [
    "# Assigning non one-hot encoded categories for CatBoost\n",
    "cat_features = [\"boro\", \"nbhd\", \"rsp_time\"]"
   ]
  },
  {
   "cell_type": "code",
   "execution_count": 20,
   "id": "d7cfdf14",
   "metadata": {},
   "outputs": [],
   "source": [
    "# Replacing NaN values with string values for CatBoost\n",
    "X_train[cat_features] = X_train[cat_features].fillna(\"Missing\")\n",
    "X_test[cat_features]  = X_test[cat_features].fillna(\"Missing\")"
   ]
  },
  {
   "cell_type": "code",
   "execution_count": 21,
   "id": "c04232f9",
   "metadata": {},
   "outputs": [],
   "source": [
    "# Assigning CatBoost Pool objects for training and testing sets (after log scale)\n",
    "train_pool = Pool(data = X_train, label = y_train_log, cat_features = cat_features)\n",
    "test_pool = Pool(data = X_test, label = y_test_log, cat_features = cat_features)"
   ]
  },
  {
   "cell_type": "markdown",
   "id": "7478a8c4",
   "metadata": {},
   "source": [
    "# CatBoost"
   ]
  },
  {
   "cell_type": "markdown",
   "id": "b4a03c9e",
   "metadata": {},
   "source": [
    "## Optuna Trials"
   ]
  },
  {
   "cell_type": "code",
   "execution_count": 22,
   "id": "35998052",
   "metadata": {},
   "outputs": [],
   "source": [
    "# Defining Optuna objective function\n",
    "def objective(trial):\n",
    "    params = {\n",
    "        \"iterations\": trial.suggest_int(\"iterations\", 400, 1600),\n",
    "        \"depth\": trial.suggest_int(\"depth\", 4, 14),\n",
    "        \"learning_rate\": trial.suggest_float(\"learning_rate\", 0.01, 0.3, log = True),\n",
    "        \"l2_leaf_reg\": trial.suggest_float(\"l2_leaf_reg\", 1e-3, 2, log = True),\n",
    "        \"border_count\": trial.suggest_int(\"border_count\", 64, 128),\n",
    "        \"loss_function\": \"RMSE\",\n",
    "        \"verbose\": 0,\n",
    "        \"thread_count\": -1,\n",
    "        \"task_type\": \"GPU\"\n",
    "    }\n",
    "    # Instantiating CatBoost Model \n",
    "    model = CatBoostRegressor(**params)\n",
    "    # Fitting CatBoost\n",
    "    model.fit(train_pool, eval_set = test_pool, early_stopping_rounds = 50, verbose = 0)\n",
    "    # Model predictions\n",
    "    preds_log = model.predict(test_pool)\n",
    "    # RMSE for each Trial\n",
    "    rmse_log = root_mean_squared_error(y_test_log, preds_log)\n",
    "    return rmse_log"
   ]
  },
  {
   "cell_type": "code",
   "execution_count": 23,
   "id": "f1e62dfd",
   "metadata": {},
   "outputs": [
    {
     "name": "stderr",
     "output_type": "stream",
     "text": [
      "[I 2025-09-27 21:18:28,841] A new study created in memory with name: no-name-32fb2da8-f99d-4c76-b6cc-221f21e73eca\n",
      "[I 2025-09-27 21:19:04,390] Trial 0 finished with value: 0.18753091760173493 and parameters: {'iterations': 1280, 'depth': 9, 'learning_rate': 0.25848132486041486, 'l2_leaf_reg': 0.06907022265812623, 'border_count': 97}. Best is trial 0 with value: 0.18753091760173493.\n",
      "[I 2025-09-27 21:19:19,184] Trial 1 finished with value: 0.3164062017382884 and parameters: {'iterations': 1044, 'depth': 6, 'learning_rate': 0.03249734100038222, 'l2_leaf_reg': 0.4369291063486238, 'border_count': 68}. Best is trial 0 with value: 0.18753091760173493.\n",
      "[I 2025-09-27 21:23:58,505] Trial 2 finished with value: 0.21835518098975276 and parameters: {'iterations': 595, 'depth': 13, 'learning_rate': 0.03785169992826669, 'l2_leaf_reg': 0.1299591808750268, 'border_count': 74}. Best is trial 0 with value: 0.18753091760173493.\n",
      "[I 2025-09-27 21:24:15,843] Trial 3 finished with value: 0.2548900240571038 and parameters: {'iterations': 973, 'depth': 7, 'learning_rate': 0.11904591151976184, 'l2_leaf_reg': 0.1477081402892951, 'border_count': 115}. Best is trial 0 with value: 0.18753091760173493.\n",
      "[I 2025-09-27 21:28:02,452] Trial 4 finished with value: 0.24441837564823268 and parameters: {'iterations': 832, 'depth': 8, 'learning_rate': 0.11306498269470677, 'l2_leaf_reg': 0.291939385751505, 'border_count': 68}. Best is trial 0 with value: 0.18753091760173493.\n",
      "[I 2025-09-27 21:28:37,925] Trial 5 finished with value: 0.20232461834373033 and parameters: {'iterations': 1022, 'depth': 10, 'learning_rate': 0.09780309678482008, 'l2_leaf_reg': 0.05153571059305228, 'border_count': 95}. Best is trial 0 with value: 0.18753091760173493.\n",
      "[I 2025-09-27 21:28:56,277] Trial 6 finished with value: 0.2220604251719626 and parameters: {'iterations': 533, 'depth': 10, 'learning_rate': 0.12038281024327209, 'l2_leaf_reg': 0.00823857470792375, 'border_count': 110}. Best is trial 0 with value: 0.18753091760173493.\n",
      "[I 2025-09-27 21:34:34,097] Trial 7 finished with value: 0.2734855332173682 and parameters: {'iterations': 611, 'depth': 12, 'learning_rate': 0.020165298001885934, 'l2_leaf_reg': 0.12496447826775965, 'border_count': 96}. Best is trial 0 with value: 0.18753091760173493.\n",
      "[I 2025-09-27 21:34:45,304] Trial 8 finished with value: 0.3396553182310682 and parameters: {'iterations': 1104, 'depth': 4, 'learning_rate': 0.0304797999393002, 'l2_leaf_reg': 0.08558102153786105, 'border_count': 87}. Best is trial 0 with value: 0.18753091760173493.\n",
      "[I 2025-09-27 21:37:05,308] Trial 9 finished with value: 0.30087452588259667 and parameters: {'iterations': 1454, 'depth': 6, 'learning_rate': 0.0371679635814358, 'l2_leaf_reg': 0.004883316780521205, 'border_count': 98}. Best is trial 0 with value: 0.18753091760173493.\n",
      "[I 2025-09-27 21:42:40,035] Trial 10 finished with value: 0.18494704456527236 and parameters: {'iterations': 1454, 'depth': 14, 'learning_rate': 0.26549902453362717, 'l2_leaf_reg': 1.2765068424463955, 'border_count': 125}. Best is trial 10 with value: 0.18494704456527236.\n",
      "[I 2025-09-27 21:50:05,173] Trial 11 finished with value: 0.18466207896901474 and parameters: {'iterations': 1486, 'depth': 14, 'learning_rate': 0.28850014698635623, 'l2_leaf_reg': 1.8805412950857527, 'border_count': 125}. Best is trial 11 with value: 0.18466207896901474.\n",
      "[I 2025-09-27 21:56:00,965] Trial 12 finished with value: 0.1858468820969762 and parameters: {'iterations': 1575, 'depth': 14, 'learning_rate': 0.2876563100992355, 'l2_leaf_reg': 1.8038083309290582, 'border_count': 128}. Best is trial 11 with value: 0.18466207896901474.\n",
      "[I 2025-09-27 21:59:45,955] Trial 13 finished with value: 0.17918631640127264 and parameters: {'iterations': 1333, 'depth': 12, 'learning_rate': 0.18374926148247112, 'l2_leaf_reg': 1.9814431926652578, 'border_count': 125}. Best is trial 13 with value: 0.17918631640127264.\n",
      "[I 2025-09-27 22:01:45,110] Trial 14 finished with value: 0.17939859215771148 and parameters: {'iterations': 1276, 'depth': 12, 'learning_rate': 0.1648290311079233, 'l2_leaf_reg': 0.7578914640021409, 'border_count': 114}. Best is trial 13 with value: 0.17918631640127264.\n",
      "[I 2025-09-27 22:08:40,811] Trial 15 finished with value: 0.28967105020768924 and parameters: {'iterations': 1261, 'depth': 11, 'learning_rate': 0.010104599550726241, 'l2_leaf_reg': 0.5832791220897475, 'border_count': 112}. Best is trial 13 with value: 0.17918631640127264.\n",
      "[I 2025-09-27 22:13:20,121] Trial 16 finished with value: 0.18079245850113485 and parameters: {'iterations': 1280, 'depth': 12, 'learning_rate': 0.16891105525942, 'l2_leaf_reg': 0.013216128465758042, 'border_count': 118}. Best is trial 13 with value: 0.17918631640127264.\n",
      "[I 2025-09-27 22:19:44,524] Trial 17 finished with value: 0.18556906647445082 and parameters: {'iterations': 1207, 'depth': 12, 'learning_rate': 0.06765035952636324, 'l2_leaf_reg': 0.0019986428559109638, 'border_count': 104}. Best is trial 13 with value: 0.17918631640127264.\n",
      "[I 2025-09-27 22:21:17,580] Trial 18 finished with value: 0.1869684575166789 and parameters: {'iterations': 836, 'depth': 11, 'learning_rate': 0.1768603690826049, 'l2_leaf_reg': 0.72719326780383, 'border_count': 119}. Best is trial 13 with value: 0.17918631640127264.\n",
      "[I 2025-09-27 22:22:14,973] Trial 19 finished with value: 0.20495199420059973 and parameters: {'iterations': 1366, 'depth': 10, 'learning_rate': 0.06683907973624971, 'l2_leaf_reg': 0.02423270999282715, 'border_count': 107}. Best is trial 13 with value: 0.17918631640127264.\n"
     ]
    }
   ],
   "source": [
    "# Creating Optuna study for hyperparameter tuning\n",
    "study = optuna.create_study(direction = \"minimize\")\n",
    "study.optimize(objective, n_trials = 20)"
   ]
  },
  {
   "cell_type": "code",
   "execution_count": 25,
   "id": "d6986462",
   "metadata": {},
   "outputs": [
    {
     "data": {
      "text/plain": [
       "<catboost.core.CatBoostRegressor at 0x1f2290ac110>"
      ]
     },
     "execution_count": 25,
     "metadata": {},
     "output_type": "execute_result"
    }
   ],
   "source": [
    "# Getting best parameters of Optuna study and running that model\n",
    "best_params = study.best_trial.params\n",
    "best_model = CatBoostRegressor(**best_params, task_type = \"GPU\")\n",
    "best_model.fit(train_pool, eval_set = test_pool, verbose = 0)"
   ]
  },
  {
   "cell_type": "code",
   "execution_count": 26,
   "id": "4a71c7f4",
   "metadata": {},
   "outputs": [
    {
     "name": "stdout",
     "output_type": "stream",
     "text": [
      "                                      Feature Id  Importances\n",
      "0                                            lon     6.899270\n",
      "1                                           nbhd     6.626849\n",
      "2                                     min_nights     5.994288\n",
      "3                                         accomm     5.993694\n",
      "4                                            lat     5.770466\n",
      "5                                        lst_cnt     4.101923\n",
      "6                                  total_lst_cnt     3.945096\n",
      "7                               host_since_month     3.786401\n",
      "8                                       avail_30     3.698416\n",
      "9                                    accept_rate     3.611715\n",
      "10                                        tenure     3.575482\n",
      "11                                     bathrooms     3.488931\n",
      "12                             prop_private_room     2.914191\n",
      "13                calculated_host_listings_count     2.844270\n",
      "14                                     avail_365     2.717939\n",
      "15                                      bedrooms     2.526622\n",
      "16                                   shared_bath     2.522810\n",
      "17                                        no_rev     2.422527\n",
      "18                                    max_nights     2.274432\n",
      "19  calculated_host_listings_count_private_rooms     1.920680\n",
      "20                                          beds     1.758293\n",
      "21                             reviews_per_month     1.689743\n",
      "22   calculated_host_listings_count_entire_homes     1.579375\n",
      "23                                    rev_rating     1.577667\n",
      "24                                          boro     1.548972\n",
      "25                                      rsp_time     1.459405\n",
      "26                                     rev_clean     1.397081\n",
      "27                                      rsp_rate     1.302187\n",
      "28                                       rev_val     1.267228\n",
      "29                                       rev_loc     0.881493\n",
      "30                               host_since_year     0.791270\n",
      "31                                       rev_acc     0.680508\n",
      "32                                           feb     0.671660\n",
      "33                                   rev_checkin     0.577136\n",
      "34                                           jan     0.525872\n",
      "35                                    prop_hotel     0.456461\n",
      "36                                  instant_book     0.440790\n",
      "37                                      prop_apt     0.429043\n",
      "38                                      rev_coms     0.419059\n",
      "39                                  is_superhost     0.394262\n",
      "40                                           dec     0.376325\n",
      "41                                           mar     0.312268\n",
      "42                          prop_entire_home_apt     0.256402\n",
      "43                                           oct     0.227180\n",
      "44                                        id_ver     0.211991\n",
      "45                                           jul     0.162013\n",
      "46                                       has_pfp     0.148143\n",
      "47                                          june     0.139470\n",
      "48                                           apr     0.134651\n",
      "49                                           may     0.105841\n",
      "50                               prop_hotel_room     0.098680\n",
      "51                                           aug     0.097718\n",
      "52                              prop_shared_room     0.091768\n",
      "53                                           nov     0.056129\n",
      "54                                     has_avail     0.053673\n",
      "55   calculated_host_listings_count_shared_rooms     0.025891\n",
      "56                                    prop_other     0.012503\n",
      "57                            prop_vacation_home     0.005847\n"
     ]
    }
   ],
   "source": [
    "# Getting feature importance\n",
    "feature_importance = best_model.get_feature_importance(prettified = True)\n",
    "print(feature_importance)"
   ]
  },
  {
   "cell_type": "markdown",
   "id": "3385a65c",
   "metadata": {},
   "source": [
    "# Feature Engineering"
   ]
  },
  {
   "cell_type": "code",
   "execution_count": 27,
   "id": "dff490a1",
   "metadata": {},
   "outputs": [],
   "source": [
    "# Dropping features with lowest feature importance - narrowing down to 38 features total\n",
    "listings_pp = listings_pp.drop(columns = [\"prop_vacation_home\", \"prop_other\", \"calculated_host_listings_count_shared_rooms\",\n",
    "                                        \"aug\", \"nov\", \"has_avail\", \"may\", \"june\", \"apr\", \"jul\", \"prop_shared_room\", \"has_pfp\",\n",
    "                                        \"oct\", \"mar\", \"prop_apt\", \"id_ver\", \"is_superhost\", \"prop_hotel_room\", \"prop_entire_home_apt\"])"
   ]
  },
  {
   "cell_type": "code",
   "execution_count": 29,
   "id": "7823d9a0",
   "metadata": {},
   "outputs": [
    {
     "name": "stderr",
     "output_type": "stream",
     "text": [
      "[I 2025-09-27 22:40:14,059] A new study created in memory with name: no-name-00a2008e-e4d6-47e5-a5e0-8ecb2540d0d0\n",
      "[I 2025-09-27 22:43:24,059] Trial 0 finished with value: 0.27409434593544024 and parameters: {'iterations': 1152, 'depth': 10, 'learning_rate': 0.019995780575941858, 'l2_leaf_reg': 0.2029062421106852, 'border_count': 122}. Best is trial 0 with value: 0.27409434593544024.\n",
      "[I 2025-09-27 22:43:34,000] Trial 1 finished with value: 0.35421710314646077 and parameters: {'iterations': 1041, 'depth': 4, 'learning_rate': 0.018046193830287143, 'l2_leaf_reg': 0.05577537510093967, 'border_count': 117}. Best is trial 0 with value: 0.27409434593544024.\n",
      "[I 2025-09-27 22:44:09,268] Trial 2 finished with value: 0.29931989669737663 and parameters: {'iterations': 1218, 'depth': 6, 'learning_rate': 0.046645075400369745, 'l2_leaf_reg': 0.010565762641304191, 'border_count': 79}. Best is trial 0 with value: 0.27409434593544024.\n",
      "[I 2025-09-27 22:50:42,537] Trial 3 finished with value: 0.1839251688639283 and parameters: {'iterations': 919, 'depth': 14, 'learning_rate': 0.15460465386985228, 'l2_leaf_reg': 0.008456657067608217, 'border_count': 65}. Best is trial 3 with value: 0.1839251688639283.\n",
      "[I 2025-09-27 23:01:48,749] Trial 4 finished with value: 0.1793554700167687 and parameters: {'iterations': 1343, 'depth': 14, 'learning_rate': 0.056614083129047504, 'l2_leaf_reg': 0.23801661224453557, 'border_count': 69}. Best is trial 4 with value: 0.1793554700167687.\n",
      "[I 2025-09-27 23:03:47,352] Trial 5 finished with value: 0.26116213311296427 and parameters: {'iterations': 1513, 'depth': 9, 'learning_rate': 0.027518083497205408, 'l2_leaf_reg': 0.0024775218814865017, 'border_count': 74}. Best is trial 4 with value: 0.1793554700167687.\n",
      "[I 2025-09-27 23:09:04,811] Trial 6 finished with value: 0.24975826432795115 and parameters: {'iterations': 1266, 'depth': 13, 'learning_rate': 0.01070829778723944, 'l2_leaf_reg': 0.059794476937919526, 'border_count': 116}. Best is trial 4 with value: 0.1793554700167687.\n",
      "[I 2025-09-27 23:09:11,331] Trial 7 finished with value: 0.31752923451772863 and parameters: {'iterations': 490, 'depth': 5, 'learning_rate': 0.10013371645087522, 'l2_leaf_reg': 0.0028302144760478927, 'border_count': 81}. Best is trial 4 with value: 0.1793554700167687.\n",
      "[I 2025-09-27 23:10:37,581] Trial 8 finished with value: 0.2858330561080139 and parameters: {'iterations': 1097, 'depth': 9, 'learning_rate': 0.02315999558424216, 'l2_leaf_reg': 0.015003186509864862, 'border_count': 71}. Best is trial 4 with value: 0.1793554700167687.\n",
      "[I 2025-09-27 23:10:54,734] Trial 9 finished with value: 0.2681939646221544 and parameters: {'iterations': 1128, 'depth': 6, 'learning_rate': 0.1191276951343552, 'l2_leaf_reg': 0.015089934228209489, 'border_count': 95}. Best is trial 4 with value: 0.1793554700167687.\n",
      "[I 2025-09-27 23:14:45,883] Trial 10 finished with value: 0.17949462724206494 and parameters: {'iterations': 1587, 'depth': 12, 'learning_rate': 0.24974287120047342, 'l2_leaf_reg': 1.3687279920619426, 'border_count': 94}. Best is trial 4 with value: 0.1793554700167687.\n",
      "[I 2025-09-27 23:18:32,475] Trial 11 finished with value: 0.18260476153639865 and parameters: {'iterations': 1595, 'depth': 12, 'learning_rate': 0.2985749670165398, 'l2_leaf_reg': 1.4998451786799312, 'border_count': 94}. Best is trial 4 with value: 0.1793554700167687.\n",
      "[I 2025-09-27 23:20:16,712] Trial 12 finished with value: 0.1820110644096695 and parameters: {'iterations': 1368, 'depth': 11, 'learning_rate': 0.2788513000091527, 'l2_leaf_reg': 1.2859231543551692, 'border_count': 104}. Best is trial 4 with value: 0.1793554700167687.\n",
      "[I 2025-09-27 23:27:33,165] Trial 13 finished with value: 0.1790340753626888 and parameters: {'iterations': 1425, 'depth': 14, 'learning_rate': 0.061162466553205105, 'l2_leaf_reg': 0.37207066731221555, 'border_count': 86}. Best is trial 13 with value: 0.1790340753626888.\n",
      "[I 2025-09-27 23:30:27,034] Trial 14 finished with value: 0.1864972987516952 and parameters: {'iterations': 793, 'depth': 14, 'learning_rate': 0.058864003917546044, 'l2_leaf_reg': 0.25445427531921644, 'border_count': 85}. Best is trial 13 with value: 0.1790340753626888.\n",
      "[I 2025-09-27 23:34:54,301] Trial 15 finished with value: 0.18034806149560348 and parameters: {'iterations': 1395, 'depth': 14, 'learning_rate': 0.06012188939648373, 'l2_leaf_reg': 0.36286542881224526, 'border_count': 64}. Best is trial 13 with value: 0.1790340753626888.\n",
      "[I 2025-09-27 23:35:18,315] Trial 16 finished with value: 0.2657836958647596 and parameters: {'iterations': 1368, 'depth': 8, 'learning_rate': 0.04108791144881005, 'l2_leaf_reg': 0.11872403454789464, 'border_count': 87}. Best is trial 13 with value: 0.1790340753626888.\n",
      "[I 2025-09-27 23:39:21,816] Trial 17 finished with value: 0.18756373685208297 and parameters: {'iterations': 868, 'depth': 12, 'learning_rate': 0.0920009558999733, 'l2_leaf_reg': 0.4376288540470104, 'border_count': 103}. Best is trial 13 with value: 0.1790340753626888.\n",
      "[I 2025-09-27 23:40:32,107] Trial 18 finished with value: 0.22535880773482206 and parameters: {'iterations': 621, 'depth': 13, 'learning_rate': 0.034285571166377225, 'l2_leaf_reg': 0.6341991748483015, 'border_count': 72}. Best is trial 13 with value: 0.1790340753626888.\n",
      "[I 2025-09-27 23:43:38,199] Trial 19 finished with value: 0.18639683713066016 and parameters: {'iterations': 1444, 'depth': 11, 'learning_rate': 0.07918397130935965, 'l2_leaf_reg': 0.12291452563969874, 'border_count': 104}. Best is trial 13 with value: 0.1790340753626888.\n"
     ]
    }
   ],
   "source": [
    "# Trying again with less features\n",
    "study = optuna.create_study(direction = \"minimize\")\n",
    "study.optimize(objective, n_trials = 20)"
   ]
  },
  {
   "cell_type": "code",
   "execution_count": 30,
   "id": "5d3e5220",
   "metadata": {},
   "outputs": [
    {
     "data": {
      "text/plain": [
       "<catboost.core.CatBoostRegressor at 0x1f2290afa10>"
      ]
     },
     "execution_count": 30,
     "metadata": {},
     "output_type": "execute_result"
    }
   ],
   "source": [
    "# Getting best parameters of Optuna study and running that model\n",
    "best_params = study.best_trial.params\n",
    "best_model = CatBoostRegressor(**best_params, task_type = \"GPU\")\n",
    "best_model.fit(train_pool, eval_set = test_pool, verbose = 0)"
   ]
  },
  {
   "cell_type": "code",
   "execution_count": 31,
   "id": "d6480ff5",
   "metadata": {},
   "outputs": [
    {
     "name": "stdout",
     "output_type": "stream",
     "text": [
      "                                      Feature Id  Importances\n",
      "0                                           nbhd     7.722214\n",
      "1                                            lon     6.249983\n",
      "2                                         accomm     5.813094\n",
      "3                                     min_nights     5.804737\n",
      "4                                            lat     5.555680\n",
      "5                               host_since_month     4.179289\n",
      "6                                       avail_30     3.964570\n",
      "7                                        lst_cnt     3.936082\n",
      "8                                      bathrooms     3.478107\n",
      "9                                    accept_rate     3.454592\n",
      "10                                        tenure     3.258653\n",
      "11                                 total_lst_cnt     2.828612\n",
      "12                                     avail_365     2.773913\n",
      "13                calculated_host_listings_count     2.752757\n",
      "14                                      bedrooms     2.734219\n",
      "15                                        no_rev     2.686290\n",
      "16                                    max_nights     2.427586\n",
      "17                                   shared_bath     2.427404\n",
      "18                             prop_private_room     2.238887\n",
      "19  calculated_host_listings_count_private_rooms     2.021372\n",
      "20                                          beds     1.900868\n",
      "21                                    rev_rating     1.873030\n",
      "22                                      rsp_rate     1.780911\n",
      "23   calculated_host_listings_count_entire_homes     1.617802\n",
      "24                                      rsp_time     1.554115\n",
      "25                                     rev_clean     1.449275\n",
      "26                             reviews_per_month     1.447117\n",
      "27                               host_since_year     1.426879\n",
      "28                                          boro     1.341593\n",
      "29                                       rev_val     1.197565\n",
      "30                                       rev_loc     0.978767\n",
      "31                                           feb     0.740456\n",
      "32                                           jan     0.602046\n",
      "33                          prop_entire_home_apt     0.563400\n",
      "34                                  instant_book     0.553357\n",
      "35                                       rev_acc     0.533838\n",
      "36                                      rev_coms     0.446291\n",
      "37                                           dec     0.419802\n",
      "38                                    prop_hotel     0.367506\n",
      "39                                           mar     0.353181\n",
      "40                                  is_superhost     0.349632\n",
      "41                                   rev_checkin     0.342917\n",
      "42                                      prop_apt     0.273162\n",
      "43                                           oct     0.223183\n",
      "44                                        id_ver     0.223139\n",
      "45                                           jul     0.182231\n",
      "46                                          june     0.177460\n",
      "47                                           apr     0.170014\n",
      "48                                           may     0.125003\n",
      "49                                           aug     0.111794\n",
      "50                                       has_pfp     0.109523\n",
      "51                                           nov     0.077899\n",
      "52                              prop_shared_room     0.061606\n",
      "53                                     has_avail     0.046960\n",
      "54                               prop_hotel_room     0.040702\n",
      "55   calculated_host_listings_count_shared_rooms     0.018581\n",
      "56                                    prop_other     0.009597\n",
      "57                            prop_vacation_home     0.000759\n"
     ]
    }
   ],
   "source": [
    "# Getting feature importance\n",
    "feature_importance = best_model.get_feature_importance(prettified = True)\n",
    "print(feature_importance)"
   ]
  }
 ],
 "metadata": {
  "kernelspec": {
   "display_name": ".venv",
   "language": "python",
   "name": "python3"
  },
  "language_info": {
   "codemirror_mode": {
    "name": "ipython",
    "version": 3
   },
   "file_extension": ".py",
   "mimetype": "text/x-python",
   "name": "python",
   "nbconvert_exporter": "python",
   "pygments_lexer": "ipython3",
   "version": "3.11.9"
  }
 },
 "nbformat": 4,
 "nbformat_minor": 5
}
