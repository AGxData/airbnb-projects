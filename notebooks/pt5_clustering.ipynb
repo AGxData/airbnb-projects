{
 "cells": [
  {
   "cell_type": "markdown",
   "id": "26294103",
   "metadata": {},
   "source": [
    "# HDBSCAN Geospatial Clustering"
   ]
  },
  {
   "cell_type": "markdown",
   "id": "02642163",
   "metadata": {},
   "source": [
    "## Loading Libraries & Data"
   ]
  },
  {
   "cell_type": "code",
   "execution_count": null,
   "id": "c6f9bd4c",
   "metadata": {},
   "outputs": [],
   "source": [
    "import numpy as np \n",
    "import pandas as pd\n",
    "\n",
    "import hdbscan\n",
    "from sklearn.preprocessing import StandardScaler\n",
    "from sklearn.model_selection import train_test_split"
   ]
  },
  {
   "cell_type": "code",
   "execution_count": null,
   "id": "7622c31a",
   "metadata": {},
   "outputs": [],
   "source": [
    "# Loading CSV\n",
    "listings = pd.read_csv(r\"..\\data\\listings_cleaner.csv\")"
   ]
  },
  {
   "cell_type": "markdown",
   "id": "0a851862",
   "metadata": {},
   "source": [
    "## Preprocessing for Clustering"
   ]
  },
  {
   "cell_type": "code",
   "execution_count": null,
   "id": "1a66240a",
   "metadata": {},
   "outputs": [],
   "source": [
    "# Filtering listings above $1800 (Massive price outliers)\n",
    "listings = listings[listings[\"price\"] <= 1800]"
   ]
  },
  {
   "cell_type": "code",
   "execution_count": null,
   "id": "bf5fb768",
   "metadata": {},
   "outputs": [],
   "source": [
    "# Pasting drops and renames\n",
    "listings = listings.drop(columns = \n",
    "                [\"Unnamed: 0.1\", \"Unnamed: 0\", \"host_id\", \"id\", # Removing index columns and IDs\n",
    "                \"name\", \"last_scrape_period\", \"description\", \"last_scraped\"]) # Removing free text columns\n",
    "\n",
    "# Renaming long column names to make them easier to work with\n",
    "listings = listings.rename(columns = {\n",
    "    \"accommodates\": \"accomm\", \"instant_bookable\": \"instant_book\",\n",
    "    \"neighbourhood_group_cleansed\": \"boro\", \"host_neighbourhood\": \"nbhd\",\n",
    "    \"host_has_profile_pic\": \"has_pfp\", \"host_tenure\": \"tenure\", \"host_is_superhost\": \"is_superhost\",\n",
    "    \"host_identity_verified\": \"id_ver\", \"host_listings_count\": \"lst_cnt\", \"host_total_listings_count\": \"total_lst_cnt\",\n",
    "    \"host_response_rate\": \"rsp_rate\", \"host_response_time\": \"rsp_time\", \"host_acceptance_rate\": \"accept_rate\",\n",
    "    \"availability_30\": \"avail_30\", \"availability_365\": \"avail_365\", \"has_availability\": \"has_avail\",\n",
    "    \"maximum_nights\": \"max_nights\", \"minimum_nights\": \"min_nights\",\n",
    "    \"number_of_reviews\": \"no_rev\", \"review_scores_accuracy\": \"rev_acc\", \"review_scores_checkin\": \"rev_checkin\",\n",
    "    \"review_scores_cleanliness\": \"rev_clean\", \"review_scores_communication\": \"rev_coms\", \"review_scores_location\": \"rev_loc\",\n",
    "    \"review_scores_value\": \"rev_val\", \"review_scores_rating\": \"rev_rating\",\n",
    "    \"scrape_2024-10\": \"oct\", \"scrape_2024-11\": \"nov\", \"scrape_2024-12\": \"dec\", \"scrape_2025-01\": \"jan\",\n",
    "    \"scrape_2025-02\": \"feb\", \"scrape_2025-03\": \"mar\", \"scrape_2025-04\": \"apr\", \"scrape_2025-05\": \"may\", \n",
    "    \"scrape_2025-06\": \"june\", \"scrape_2025-07\": \"jul\", \"scrape_2025-08\": \"aug\", \n",
    "    \"prop_apartment\": \"prop_apt\", \"prop_entire home/apt\": \"prop_entire_home_apt\",\"prop_hotel room\": \"prop_hotel_room\",\n",
    "    \"prop_private room\": \"prop_private_room\", \"prop_shared room\": \"prop_shared_room\",\n",
    "    \"latitude\": \"lat\", \"longitude\": \"lon\"\n",
    "})"
   ]
  },
  {
   "cell_type": "code",
   "execution_count": null,
   "id": "963626fa",
   "metadata": {},
   "outputs": [],
   "source": [
    "# \n",
    "X = \n",
    "y = "
   ]
  },
  {
   "cell_type": "code",
   "execution_count": null,
   "id": "914e0d0c",
   "metadata": {},
   "outputs": [],
   "source": [
    "# Train-test split to avoid data leakage with clustered features\n",
    "X_train, X_test, y_train, y_test = train_test_split(X, y, train_size = 0.8, random_state = 2025)"
   ]
  },
  {
   "cell_type": "code",
   "execution_count": null,
   "id": "7532ed7d",
   "metadata": {},
   "outputs": [],
   "source": [
    "# Separating by borough\n",
    "for i "
   ]
  },
  {
   "cell_type": "code",
   "execution_count": null,
   "id": "d82e584f",
   "metadata": {},
   "outputs": [],
   "source": [
    "# \n",
    "hdbscan.HDBSCAN()"
   ]
  }
 ],
 "metadata": {
  "language_info": {
   "name": "python"
  }
 },
 "nbformat": 4,
 "nbformat_minor": 5
}
