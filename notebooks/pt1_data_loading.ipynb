{
 "cells": [
  {
   "cell_type": "markdown",
   "id": "04bbd792",
   "metadata": {},
   "source": [
    "# Inside Airbnb Data - Part 1: Entity Resolution"
   ]
  },
  {
   "cell_type": "markdown",
   "id": "2d761345",
   "metadata": {},
   "source": [
    "## Loading Libraries & Data"
   ]
  },
  {
   "cell_type": "code",
   "execution_count": 1,
   "id": "7e8f4428",
   "metadata": {},
   "outputs": [],
   "source": [
    "# Importing Libraries\n",
    "import os \n",
    "import pandas as pd\n",
    "import polars as pl\n",
    "import duckdb as ddb\n",
    "from functools import reduce\n",
    "from IPython.display import display\n",
    "pd.set_option('display.max_columns', None)"
   ]
  },
  {
   "cell_type": "markdown",
   "id": "4ffe3100",
   "metadata": {},
   "source": [
    "### Creating DuckDB File"
   ]
  },
  {
   "cell_type": "code",
   "execution_count": 2,
   "id": "bddd8b40",
   "metadata": {},
   "outputs": [],
   "source": [
    "# Pointing towards the directory of this file\n",
    "notebook_folder = os.getcwd()\n",
    "\n",
    "# Pointing towards the directory of the data file\n",
    "data_folder = os.path.join(notebook_folder, \"..\", \"data\")\n",
    "csvs = []\n",
    "\n",
    "# Looping through CSV files in the data folder of the repo\n",
    "for file in os.listdir(data_folder):\n",
    "    if file.endswith(\".csv\"):\n",
    "        csvs.append(os.path.join(data_folder, file))\n",
    "\n",
    "# Placing file in the data folder\n",
    "duckdb_file = os.path.join(data_folder, \"airbnb_listings.duckdb\")\n",
    "\n",
    "# DuckDB connection\n",
    "con = ddb.connect(duckdb_file)\n",
    "\n",
    "# Looping through each CSV file to create a table out of each CSV and remove .csv file extension\n",
    "for file in csvs:\n",
    "    table_name = os.path.splitext(os.path.basename(file))[0]\n",
    "    table_name = str(table_name).lower()\n",
    "    file_path = file.replace(\"\\\\\", \"/\") # Because Windows slashes...\n",
    "    \n",
    "    con.execute(f\"\"\"\n",
    "    CREATE OR REPLACE Table \"{table_name}\" AS \n",
    "    SELECT * \n",
    "    FROM read_csv_auto('{file_path}')\n",
    "    \"\"\")"
   ]
  },
  {
   "cell_type": "markdown",
   "id": "b0b9d9a2",
   "metadata": {},
   "source": [
    "### Loading DuckDB Tables"
   ]
  },
  {
   "cell_type": "code",
   "execution_count": 3,
   "id": "9c1c271f",
   "metadata": {},
   "outputs": [],
   "source": [
    "# DataFrame of DuckDB table names\n",
    "tables_dfs = con.execute(\"SHOW TABLES\").df()"
   ]
  },
  {
   "cell_type": "code",
   "execution_count": 4,
   "id": "3112db28",
   "metadata": {},
   "outputs": [],
   "source": [
    "# Making list of table names\n",
    "table_names = tables_dfs[\"name\"].to_list()"
   ]
  },
  {
   "cell_type": "code",
   "execution_count": 5,
   "id": "75309f23",
   "metadata": {},
   "outputs": [],
   "source": [
    "# Loading each table as a dictionary of Polars DataFrames to avoid loading a dozen CSVs into memory\n",
    "tables_dict = {}\n",
    "for table in table_names:\n",
    "    df = con.execute(f\"SELECT * FROM {table}\").pl()\n",
    "    tables_dict[table] = df"
   ]
  },
  {
   "cell_type": "code",
   "execution_count": 6,
   "id": "6ce7289e",
   "metadata": {},
   "outputs": [],
   "source": [
    "# Creating a DataFrame containing the number of rows and columns in each table\n",
    "summary_list = []\n",
    "\n",
    "for table_name, df in tables_dict.items():\n",
    "    n_rows, n_cols = df.shape\n",
    "    summary_list.append({\n",
    "        \"table_name\": table_name,\n",
    "        \"row_count\": n_rows,\n",
    "        \"col_count\": n_cols\n",
    "        })\n",
    "\n",
    "table_shapes = pl.DataFrame(summary_list)"
   ]
  },
  {
   "cell_type": "code",
   "execution_count": 7,
   "id": "7de9caaf",
   "metadata": {},
   "outputs": [
    {
     "data": {
      "text/html": [
       "<div>\n",
       "<style scoped>\n",
       "    .dataframe tbody tr th:only-of-type {\n",
       "        vertical-align: middle;\n",
       "    }\n",
       "\n",
       "    .dataframe tbody tr th {\n",
       "        vertical-align: top;\n",
       "    }\n",
       "\n",
       "    .dataframe thead th {\n",
       "        text-align: right;\n",
       "    }\n",
       "</style>\n",
       "<table border=\"1\" class=\"dataframe\">\n",
       "  <thead>\n",
       "    <tr style=\"text-align: right;\">\n",
       "      <th></th>\n",
       "      <th>table_name</th>\n",
       "      <th>row_count</th>\n",
       "      <th>col_count</th>\n",
       "    </tr>\n",
       "  </thead>\n",
       "  <tbody>\n",
       "    <tr>\n",
       "      <th>0</th>\n",
       "      <td>apr_2025_listings</td>\n",
       "      <td>37147</td>\n",
       "      <td>79</td>\n",
       "    </tr>\n",
       "    <tr>\n",
       "      <th>1</th>\n",
       "      <td>aug_2025_listings</td>\n",
       "      <td>36403</td>\n",
       "      <td>79</td>\n",
       "    </tr>\n",
       "    <tr>\n",
       "      <th>2</th>\n",
       "      <td>dec_2024_listings</td>\n",
       "      <td>37808</td>\n",
       "      <td>75</td>\n",
       "    </tr>\n",
       "    <tr>\n",
       "      <th>3</th>\n",
       "      <td>feb_2025_listings</td>\n",
       "      <td>37800</td>\n",
       "      <td>79</td>\n",
       "    </tr>\n",
       "    <tr>\n",
       "      <th>4</th>\n",
       "      <td>jan_2025_listings</td>\n",
       "      <td>37784</td>\n",
       "      <td>75</td>\n",
       "    </tr>\n",
       "    <tr>\n",
       "      <th>5</th>\n",
       "      <td>jul_2025_listings</td>\n",
       "      <td>36345</td>\n",
       "      <td>79</td>\n",
       "    </tr>\n",
       "    <tr>\n",
       "      <th>6</th>\n",
       "      <td>jun_2025_listings</td>\n",
       "      <td>36322</td>\n",
       "      <td>79</td>\n",
       "    </tr>\n",
       "    <tr>\n",
       "      <th>7</th>\n",
       "      <td>mar_2025_listings</td>\n",
       "      <td>37434</td>\n",
       "      <td>79</td>\n",
       "    </tr>\n",
       "    <tr>\n",
       "      <th>8</th>\n",
       "      <td>may_2025_listings</td>\n",
       "      <td>37018</td>\n",
       "      <td>79</td>\n",
       "    </tr>\n",
       "    <tr>\n",
       "      <th>9</th>\n",
       "      <td>neighbourhoods</td>\n",
       "      <td>230</td>\n",
       "      <td>2</td>\n",
       "    </tr>\n",
       "    <tr>\n",
       "      <th>10</th>\n",
       "      <td>nov_2024_listings</td>\n",
       "      <td>37548</td>\n",
       "      <td>75</td>\n",
       "    </tr>\n",
       "    <tr>\n",
       "      <th>11</th>\n",
       "      <td>oct_2024_listings</td>\n",
       "      <td>37400</td>\n",
       "      <td>75</td>\n",
       "    </tr>\n",
       "  </tbody>\n",
       "</table>\n",
       "</div>"
      ],
      "text/plain": [
       "           table_name  row_count  col_count\n",
       "0   apr_2025_listings      37147         79\n",
       "1   aug_2025_listings      36403         79\n",
       "2   dec_2024_listings      37808         75\n",
       "3   feb_2025_listings      37800         79\n",
       "4   jan_2025_listings      37784         75\n",
       "5   jul_2025_listings      36345         79\n",
       "6   jun_2025_listings      36322         79\n",
       "7   mar_2025_listings      37434         79\n",
       "8   may_2025_listings      37018         79\n",
       "9      neighbourhoods        230          2\n",
       "10  nov_2024_listings      37548         75\n",
       "11  oct_2024_listings      37400         75"
      ]
     },
     "execution_count": 7,
     "metadata": {},
     "output_type": "execute_result"
    }
   ],
   "source": [
    "table_shapes.to_pandas()"
   ]
  },
  {
   "cell_type": "code",
   "execution_count": 8,
   "id": "97e80c29",
   "metadata": {},
   "outputs": [
    {
     "data": {
      "text/plain": [
       "dict_keys(['apr_2025_listings', 'aug_2025_listings', 'dec_2024_listings', 'feb_2025_listings', 'jan_2025_listings', 'jul_2025_listings', 'jun_2025_listings', 'mar_2025_listings', 'may_2025_listings', 'nov_2024_listings', 'oct_2024_listings'])"
      ]
     },
     "execution_count": 8,
     "metadata": {},
     "output_type": "execute_result"
    }
   ],
   "source": [
    "# Removing neighborhoods table\n",
    "tables_dict.pop(\"neighbourhoods\", None)\n",
    "tables_dict.keys()"
   ]
  },
  {
   "cell_type": "markdown",
   "id": "e2b69bb2",
   "metadata": {},
   "source": [
    "## Column Name Comparisons"
   ]
  },
  {
   "cell_type": "code",
   "execution_count": 9,
   "id": "de2136d2",
   "metadata": {},
   "outputs": [
    {
     "data": {
      "text/plain": [
       "4"
      ]
     },
     "execution_count": 9,
     "metadata": {},
     "output_type": "execute_result"
    }
   ],
   "source": [
    "# Finding columns in common using set intersection\n",
    "cols_intersection = reduce(lambda a, b: a & b, (set(df.columns) for df in tables_dict.values()))\n",
    "\n",
    "# Finding all columns with set unions\n",
    "cols_union = reduce(lambda a, b: a | b, (set(df.columns) for df in tables_dict.values()))\n",
    "\n",
    "# Finding columns not found in every table\n",
    "diff_cols = cols_union - cols_intersection\n",
    "len(diff_cols)"
   ]
  },
  {
   "cell_type": "code",
   "execution_count": 10,
   "id": "7e96d89c",
   "metadata": {},
   "outputs": [
    {
     "data": {
      "text/plain": [
       "{'availability_eoy',\n",
       " 'estimated_occupancy_l365d',\n",
       " 'estimated_revenue_l365d',\n",
       " 'number_of_reviews_ly'}"
      ]
     },
     "execution_count": 10,
     "metadata": {},
     "output_type": "execute_result"
    }
   ],
   "source": [
    "diff_cols"
   ]
  },
  {
   "cell_type": "code",
   "execution_count": 11,
   "id": "ec20109e",
   "metadata": {},
   "outputs": [],
   "source": [
    "# Removing columns from all tables in diff_cols\n",
    "for table_name, df in tables_dict.items():\n",
    "    tables_dict[table_name] = df.select([col for col in df.columns if col not in diff_cols])"
   ]
  },
  {
   "cell_type": "code",
   "execution_count": 12,
   "id": "c85422e4",
   "metadata": {},
   "outputs": [
    {
     "data": {
      "text/plain": [
       "0"
      ]
     },
     "execution_count": 12,
     "metadata": {},
     "output_type": "execute_result"
    }
   ],
   "source": [
    "# Checking again for column differences\n",
    "cols_intersection = reduce(lambda a, b: a & b, (set(df.columns) for df in tables_dict.values()))\n",
    "cols_union = reduce(lambda a, b: a | b, (set(df.columns) for df in tables_dict.values()))\n",
    "diff_cols = cols_union - cols_intersection\n",
    "len(diff_cols)"
   ]
  },
  {
   "cell_type": "markdown",
   "id": "cf49289b",
   "metadata": {},
   "source": [
    "## Joining Datasets"
   ]
  },
  {
   "cell_type": "code",
   "execution_count": 13,
   "id": "fe5c1cd2",
   "metadata": {},
   "outputs": [],
   "source": [
    "# Ensuring all tables have the same column order for vertical concatenation\n",
    "for table_name, df in tables_dict.items():\n",
    "    tables_dict[table_name] = df.select(sorted(cols_union))"
   ]
  },
  {
   "cell_type": "code",
   "execution_count": 14,
   "id": "77526e53",
   "metadata": {},
   "outputs": [],
   "source": [
    "# Picking a reference DataFrame and making its schema a reference to cast dtypes to all tables for vertical concatenation\n",
    "reference_df = tables_dict[\"aug_2025_listings\"] # Most recent table as of this writing\n",
    "\n",
    "reference_schema = {}\n",
    "for col in reference_df.columns:\n",
    "    reference_schema[col] = reference_df[col].dtype"
   ]
  },
  {
   "cell_type": "code",
   "execution_count": 15,
   "id": "1677c95f",
   "metadata": {},
   "outputs": [
    {
     "name": "stdout",
     "output_type": "stream",
     "text": [
      "Table: jun_2025_listings\n",
      "  Column: maximum_maximum_nights | Current: Int64 | Expected: Float64\n",
      "  Column: maximum_minimum_nights | Current: Int64 | Expected: Float64\n",
      "  Column: minimum_maximum_nights | Current: Int64 | Expected: Float64\n",
      "  Column: minimum_minimum_nights | Current: Int64 | Expected: Float64\n"
     ]
    }
   ],
   "source": [
    "# Checking for mismatched data types across dataframes\n",
    "mismatched_columns = {}\n",
    "\n",
    "for table_name, df in tables_dict.items():\n",
    "    mismatched = []\n",
    "    for col in df.columns:\n",
    "        target_dtype = reference_schema[col]\n",
    "        if df[col].dtype != target_dtype:\n",
    "            mismatched.append((col, df[col].dtype, target_dtype))\n",
    "    if mismatched:\n",
    "        mismatched_columns[table_name] = mismatched\n",
    "\n",
    "# Displaying mismatched columns\n",
    "for table, cols in mismatched_columns.items():\n",
    "    print(f\"Table: {table}\")\n",
    "    for col, current_dtype, expected_dtype in cols:\n",
    "        print(f\"  Column: {col} | Current: {current_dtype} | Expected: {expected_dtype}\")\n",
    "\n",
    "# Only A single column across 4 tables with an insignificant data type mismatch, so proceeding with casting data types."
   ]
  },
  {
   "cell_type": "code",
   "execution_count": 16,
   "id": "f5198fce",
   "metadata": {},
   "outputs": [],
   "source": [
    "# Casting the reference data types onto every table\n",
    "for table_name, df in tables_dict.items():\n",
    "    casted_dfs = {}\n",
    "    for col in df.columns:\n",
    "        target_datatype = reference_schema[col]\n",
    "        if df[col].dtype != target_datatype:\n",
    "            casted_dfs[col] = df[col].cast(target_datatype)\n",
    "        else:\n",
    "            casted_dfs[col] = df[col]\n",
    "    tables_dict[table_name] = pl.DataFrame(casted_dfs)"
   ]
  },
  {
   "cell_type": "code",
   "execution_count": 17,
   "id": "8dc3cdaa",
   "metadata": {},
   "outputs": [],
   "source": [
    "# Concatenating all tables the dictionary into a single DataFrame\n",
    "all_listings = pl.concat(tables_dict.values(), how = \"vertical\")"
   ]
  },
  {
   "cell_type": "markdown",
   "id": "a348763b",
   "metadata": {},
   "source": [
    "## Adding Concatenated Table to DuckDB File"
   ]
  },
  {
   "cell_type": "code",
   "execution_count": 18,
   "id": "3012acf7",
   "metadata": {},
   "outputs": [
    {
     "data": {
      "application/vnd.jupyter.widget-view+json": {
       "model_id": "8b2a349b140d443f9bf5c8a6a1c3bc57",
       "version_major": 2,
       "version_minor": 0
      },
      "text/plain": [
       "FloatProgress(value=0.0, layout=Layout(width='auto'), style=ProgressStyle(bar_color='black'))"
      ]
     },
     "metadata": {},
     "output_type": "display_data"
    },
    {
     "data": {
      "text/plain": [
       "<duckdb.duckdb.DuckDBPyConnection at 0x16e25d82330>"
      ]
     },
     "execution_count": 18,
     "metadata": {},
     "output_type": "execute_result"
    }
   ],
   "source": [
    "# Creating view of Polars df to query with DuckDB\n",
    "con.register(\"all_listings_view\", all_listings)\n",
    "\n",
    "# Adding Polars df of the concatenated table to the DuckDB file\n",
    "con.execute(\"CREATE OR REPLACE TABLE all_listings AS SELECT * FROM all_listings_view\")"
   ]
  },
  {
   "cell_type": "code",
   "execution_count": 19,
   "id": "5e1dbbf2",
   "metadata": {},
   "outputs": [
    {
     "name": "stdout",
     "output_type": "stream",
     "text": [
      "    cid                 name     type  notnull dflt_value     pk\n",
      "0     0         accommodates   BIGINT    False       None  False\n",
      "1     1            amenities  VARCHAR    False       None  False\n",
      "2     2      availability_30   BIGINT    False       None  False\n",
      "3     3     availability_365   BIGINT    False       None  False\n",
      "4     4      availability_60   BIGINT    False       None  False\n",
      "..  ...                  ...      ...      ...        ...    ...\n",
      "70   70  review_scores_value   DOUBLE    False       None  False\n",
      "71   71    reviews_per_month   DOUBLE    False       None  False\n",
      "72   72            room_type  VARCHAR    False       None  False\n",
      "73   73            scrape_id   BIGINT    False       None  False\n",
      "74   74               source  VARCHAR    False       None  False\n",
      "\n",
      "[75 rows x 6 columns]\n"
     ]
    }
   ],
   "source": [
    "# Confirming the new table was added\n",
    "print(con.execute(\"PRAGMA table_info(all_listings)\").df())"
   ]
  },
  {
   "cell_type": "markdown",
   "id": "cebb2558",
   "metadata": {},
   "source": [
    "## Inspecting Variables"
   ]
  },
  {
   "cell_type": "code",
   "execution_count": 20,
   "id": "435af865",
   "metadata": {},
   "outputs": [
    {
     "data": {
      "text/html": [
       "<div>\n",
       "<style scoped>\n",
       "    .dataframe tbody tr th:only-of-type {\n",
       "        vertical-align: middle;\n",
       "    }\n",
       "\n",
       "    .dataframe tbody tr th {\n",
       "        vertical-align: top;\n",
       "    }\n",
       "\n",
       "    .dataframe thead th {\n",
       "        text-align: right;\n",
       "    }\n",
       "</style>\n",
       "<table border=\"1\" class=\"dataframe\">\n",
       "  <thead>\n",
       "    <tr style=\"text-align: right;\">\n",
       "      <th></th>\n",
       "      <th>0</th>\n",
       "      <th>1</th>\n",
       "      <th>2</th>\n",
       "      <th>3</th>\n",
       "      <th>4</th>\n",
       "      <th>5</th>\n",
       "      <th>6</th>\n",
       "      <th>7</th>\n",
       "      <th>8</th>\n",
       "      <th>9</th>\n",
       "      <th>10</th>\n",
       "      <th>11</th>\n",
       "      <th>12</th>\n",
       "      <th>13</th>\n",
       "      <th>14</th>\n",
       "    </tr>\n",
       "  </thead>\n",
       "  <tbody>\n",
       "    <tr>\n",
       "      <th>0</th>\n",
       "      <td>accommodates</td>\n",
       "      <td>amenities</td>\n",
       "      <td>availability_30</td>\n",
       "      <td>availability_365</td>\n",
       "      <td>availability_60</td>\n",
       "      <td>availability_90</td>\n",
       "      <td>bathrooms</td>\n",
       "      <td>bathrooms_text</td>\n",
       "      <td>bedrooms</td>\n",
       "      <td>beds</td>\n",
       "      <td>calculated_host_listings_count</td>\n",
       "      <td>calculated_host_listings_count_entire_homes</td>\n",
       "      <td>calculated_host_listings_count_private_rooms</td>\n",
       "      <td>calculated_host_listings_count_shared_rooms</td>\n",
       "      <td>calendar_last_scraped</td>\n",
       "    </tr>\n",
       "    <tr>\n",
       "      <th>1</th>\n",
       "      <td>calendar_updated</td>\n",
       "      <td>description</td>\n",
       "      <td>first_review</td>\n",
       "      <td>has_availability</td>\n",
       "      <td>host_about</td>\n",
       "      <td>host_acceptance_rate</td>\n",
       "      <td>host_has_profile_pic</td>\n",
       "      <td>host_id</td>\n",
       "      <td>host_identity_verified</td>\n",
       "      <td>host_is_superhost</td>\n",
       "      <td>host_listings_count</td>\n",
       "      <td>host_location</td>\n",
       "      <td>host_name</td>\n",
       "      <td>host_neighbourhood</td>\n",
       "      <td>host_picture_url</td>\n",
       "    </tr>\n",
       "    <tr>\n",
       "      <th>2</th>\n",
       "      <td>host_response_rate</td>\n",
       "      <td>host_response_time</td>\n",
       "      <td>host_since</td>\n",
       "      <td>host_thumbnail_url</td>\n",
       "      <td>host_total_listings_count</td>\n",
       "      <td>host_url</td>\n",
       "      <td>host_verifications</td>\n",
       "      <td>id</td>\n",
       "      <td>instant_bookable</td>\n",
       "      <td>last_review</td>\n",
       "      <td>last_scraped</td>\n",
       "      <td>latitude</td>\n",
       "      <td>license</td>\n",
       "      <td>listing_url</td>\n",
       "      <td>longitude</td>\n",
       "    </tr>\n",
       "    <tr>\n",
       "      <th>3</th>\n",
       "      <td>maximum_maximum_nights</td>\n",
       "      <td>maximum_minimum_nights</td>\n",
       "      <td>maximum_nights</td>\n",
       "      <td>maximum_nights_avg_ntm</td>\n",
       "      <td>minimum_maximum_nights</td>\n",
       "      <td>minimum_minimum_nights</td>\n",
       "      <td>minimum_nights</td>\n",
       "      <td>minimum_nights_avg_ntm</td>\n",
       "      <td>name</td>\n",
       "      <td>neighborhood_overview</td>\n",
       "      <td>neighbourhood</td>\n",
       "      <td>neighbourhood_cleansed</td>\n",
       "      <td>neighbourhood_group_cleansed</td>\n",
       "      <td>number_of_reviews</td>\n",
       "      <td>number_of_reviews_l30d</td>\n",
       "    </tr>\n",
       "    <tr>\n",
       "      <th>4</th>\n",
       "      <td>number_of_reviews_ltm</td>\n",
       "      <td>picture_url</td>\n",
       "      <td>price</td>\n",
       "      <td>property_type</td>\n",
       "      <td>review_scores_accuracy</td>\n",
       "      <td>review_scores_checkin</td>\n",
       "      <td>review_scores_cleanliness</td>\n",
       "      <td>review_scores_communication</td>\n",
       "      <td>review_scores_location</td>\n",
       "      <td>review_scores_rating</td>\n",
       "      <td>review_scores_value</td>\n",
       "      <td>reviews_per_month</td>\n",
       "      <td>room_type</td>\n",
       "      <td>scrape_id</td>\n",
       "      <td>source</td>\n",
       "    </tr>\n",
       "  </tbody>\n",
       "</table>\n",
       "</div>"
      ],
      "text/plain": [
       "                       0                       1                2   \\\n",
       "0            accommodates               amenities  availability_30   \n",
       "1        calendar_updated             description     first_review   \n",
       "2      host_response_rate      host_response_time       host_since   \n",
       "3  maximum_maximum_nights  maximum_minimum_nights   maximum_nights   \n",
       "4   number_of_reviews_ltm             picture_url            price   \n",
       "\n",
       "                       3                          4                       5   \\\n",
       "0        availability_365            availability_60         availability_90   \n",
       "1        has_availability                 host_about    host_acceptance_rate   \n",
       "2      host_thumbnail_url  host_total_listings_count                host_url   \n",
       "3  maximum_nights_avg_ntm     minimum_maximum_nights  minimum_minimum_nights   \n",
       "4           property_type     review_scores_accuracy   review_scores_checkin   \n",
       "\n",
       "                          6                            7   \\\n",
       "0                  bathrooms               bathrooms_text   \n",
       "1       host_has_profile_pic                      host_id   \n",
       "2         host_verifications                           id   \n",
       "3             minimum_nights       minimum_nights_avg_ntm   \n",
       "4  review_scores_cleanliness  review_scores_communication   \n",
       "\n",
       "                       8                      9   \\\n",
       "0                bedrooms                   beds   \n",
       "1  host_identity_verified      host_is_superhost   \n",
       "2        instant_bookable            last_review   \n",
       "3                    name  neighborhood_overview   \n",
       "4  review_scores_location   review_scores_rating   \n",
       "\n",
       "                               10  \\\n",
       "0  calculated_host_listings_count   \n",
       "1             host_listings_count   \n",
       "2                    last_scraped   \n",
       "3                   neighbourhood   \n",
       "4             review_scores_value   \n",
       "\n",
       "                                            11  \\\n",
       "0  calculated_host_listings_count_entire_homes   \n",
       "1                                host_location   \n",
       "2                                     latitude   \n",
       "3                       neighbourhood_cleansed   \n",
       "4                            reviews_per_month   \n",
       "\n",
       "                                             12  \\\n",
       "0  calculated_host_listings_count_private_rooms   \n",
       "1                                     host_name   \n",
       "2                                       license   \n",
       "3                  neighbourhood_group_cleansed   \n",
       "4                                     room_type   \n",
       "\n",
       "                                            13                      14  \n",
       "0  calculated_host_listings_count_shared_rooms   calendar_last_scraped  \n",
       "1                           host_neighbourhood        host_picture_url  \n",
       "2                                  listing_url               longitude  \n",
       "3                            number_of_reviews  number_of_reviews_l30d  \n",
       "4                                    scrape_id                  source  "
      ]
     },
     "metadata": {},
     "output_type": "display_data"
    }
   ],
   "source": [
    "# Viewing columns shared across all datasets as a compact dataframe (75 columns as 5 by 15 grid)\n",
    "common_cols = list(sorted(cols_intersection))\n",
    "\n",
    "n_cols = 15\n",
    "n_rows = 5\n",
    "total_cells = n_cols * n_rows\n",
    "\n",
    "cols_padded = common_cols[:total_cells] + [\"\"] * max(0, total_cells - len(common_cols))\n",
    "cols_grid = [common_cols[i * n_cols:(i + 1) * n_cols] for i in range(n_rows)]\n",
    "\n",
    "display(pd.DataFrame(cols_grid))"
   ]
  },
  {
   "cell_type": "code",
   "execution_count": 21,
   "id": "e4720e6b",
   "metadata": {},
   "outputs": [],
   "source": [
    "# Converting to Pandas\n",
    "listings = all_listings.to_pandas()"
   ]
  },
  {
   "cell_type": "code",
   "execution_count": 22,
   "id": "bc62f369",
   "metadata": {},
   "outputs": [
    {
     "data": {
      "text/plain": [
       "calendar_updated         409009\n",
       "license                  349891\n",
       "neighborhood_overview    189301\n",
       "neighbourhood            189290\n",
       "host_about               174541\n",
       "host_response_rate       168004\n",
       "host_response_time       168004\n",
       "price                    163836\n",
       "beds                     163700\n",
       "bathrooms                162449\n",
       "dtype: int64"
      ]
     },
     "execution_count": 22,
     "metadata": {},
     "output_type": "execute_result"
    }
   ],
   "source": [
    "listings.isna().sum().sort_values(ascending = False)[:10]"
   ]
  },
  {
   "cell_type": "code",
   "execution_count": 23,
   "id": "a5a341fd",
   "metadata": {},
   "outputs": [],
   "source": [
    "# Noting down potentially useless columns to inspect before removing\n",
    "useless_cols = [\"license\", \"calendar_updated\", \"neighborhood_overview\", \"host_about\", \"first_review\", \"last_review\", \"calendar_last_scraped\", # Often null\n",
    "                \"listing_url\", \"host_url\", \"picture_url\", \"host_thumbnail_url\", \"host_picture_url\", \"source\", # Urls are not useful for prediction of pricing\n",
    "                \"host_name\", \"host_location\", \"host_neighbourhood\" # Where the host lives and their names are irrelevant for price prediction\n",
    "                \"neighbourhood\", \"neighbourhood_cleansed\", \"neighbourhood\", \"neighbourhood_group_cleaned\", # redundant with lat/lon features\n",
    "                \"number_of_reviews_l30d\", \"number_of_reviews_ltm\", # redundant with number_of_reviews\n",
    "                \"availability_60\", \"availability_90\", # retaining only month long and year long availability - redundant\n",
    "                \"description\" # Free text, hard to extract relevant features from for \n",
    "                \"id\", \"scrape_id\", # Unique idenitifers not needed\n",
    "                \"minimum_minimum_nights\", \"maximum_maximum_nights\", \"minimum_maximum_nights\", \"maximum_minimum_nights\", # Represents values for listings beyond the time frame of the data\n",
    "                \"minimum_nights_avg_ntm\", \"maximum_nights_avg_ntm\" # Aggregate values consistent for each property - low variance variables\n",
    "                ] "
   ]
  },
  {
   "cell_type": "code",
   "execution_count": 24,
   "id": "9eca51c9",
   "metadata": {},
   "outputs": [],
   "source": [
    "# Dropping useless columns\n",
    "for col in useless_cols:\n",
    "    listings.drop(columns = col, inplace = True, errors = \"ignore\")"
   ]
  },
  {
   "cell_type": "code",
   "execution_count": 25,
   "id": "aeb4ccba",
   "metadata": {},
   "outputs": [
    {
     "data": {
      "text/plain": [
       "(409009, 47)"
      ]
     },
     "execution_count": 25,
     "metadata": {},
     "output_type": "execute_result"
    }
   ],
   "source": [
    "listings.shape"
   ]
  },
  {
   "cell_type": "code",
   "execution_count": 26,
   "id": "1e8934b4",
   "metadata": {},
   "outputs": [
    {
     "data": {
      "text/plain": [
       "Index(['accommodates', 'amenities', 'availability_30', 'availability_365',\n",
       "       'bathrooms', 'bathrooms_text', 'bedrooms', 'beds',\n",
       "       'calculated_host_listings_count',\n",
       "       'calculated_host_listings_count_entire_homes',\n",
       "       'calculated_host_listings_count_private_rooms',\n",
       "       'calculated_host_listings_count_shared_rooms', 'description',\n",
       "       'has_availability', 'host_acceptance_rate', 'host_has_profile_pic',\n",
       "       'host_id', 'host_identity_verified', 'host_is_superhost',\n",
       "       'host_listings_count', 'host_neighbourhood', 'host_response_rate',\n",
       "       'host_response_time', 'host_since', 'host_total_listings_count',\n",
       "       'host_verifications', 'id', 'instant_bookable', 'last_scraped',\n",
       "       'latitude', 'longitude', 'maximum_nights', 'minimum_nights', 'name',\n",
       "       'neighbourhood_group_cleansed', 'number_of_reviews', 'price',\n",
       "       'property_type', 'review_scores_accuracy', 'review_scores_checkin',\n",
       "       'review_scores_cleanliness', 'review_scores_communication',\n",
       "       'review_scores_location', 'review_scores_rating', 'review_scores_value',\n",
       "       'reviews_per_month', 'room_type'],\n",
       "      dtype='object')"
      ]
     },
     "execution_count": 26,
     "metadata": {},
     "output_type": "execute_result"
    }
   ],
   "source": [
    "listings.columns"
   ]
  },
  {
   "cell_type": "code",
   "execution_count": 27,
   "id": "acfc6151",
   "metadata": {},
   "outputs": [],
   "source": [
    "# Target variable is price! Removing rows will missing prices\n",
    "listings = listings.dropna(subset=[\"price\"])"
   ]
  },
  {
   "cell_type": "code",
   "execution_count": 28,
   "id": "c30e4275",
   "metadata": {},
   "outputs": [
    {
     "data": {
      "text/plain": [
       "(245173, 47)"
      ]
     },
     "execution_count": 28,
     "metadata": {},
     "output_type": "execute_result"
    }
   ],
   "source": [
    "# Viewing the shape of the dataset without null prices\n",
    "listings.shape"
   ]
  },
  {
   "cell_type": "code",
   "execution_count": 29,
   "id": "015581d0",
   "metadata": {},
   "outputs": [],
   "source": [
    "listings.to_csv(\"listings_clean.csv\", index = False)"
   ]
  },
  {
   "cell_type": "code",
   "execution_count": 30,
   "id": "c36d5ec1",
   "metadata": {},
   "outputs": [],
   "source": [
    "# Closing connection\n",
    "con.close()"
   ]
  }
 ],
 "metadata": {
  "kernelspec": {
   "display_name": "analytics",
   "language": "python",
   "name": "python3"
  },
  "language_info": {
   "codemirror_mode": {
    "name": "ipython",
    "version": 3
   },
   "file_extension": ".py",
   "mimetype": "text/x-python",
   "name": "python",
   "nbconvert_exporter": "python",
   "pygments_lexer": "ipython3",
   "version": "3.12.11"
  }
 },
 "nbformat": 4,
 "nbformat_minor": 5
}
